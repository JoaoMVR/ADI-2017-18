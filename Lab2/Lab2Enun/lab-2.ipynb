{
 "cells": [
  {
   "cell_type": "markdown",
   "metadata": {
    "deletable": true,
    "editable": true
   },
   "source": [
    "# Learning and Decision Making"
   ]
  },
  {
   "cell_type": "markdown",
   "metadata": {
    "deletable": true,
    "editable": true
   },
   "source": [
    "## Laboratory 2: Markov chains\n",
    "\n",
    "In the end of the lab, you should submit all code/answers written in the tasks marked as \"Activity n. XXX\", together with the corresponding outputs and any replies to specific questions posed to the e-mail <adi.tecnico@gmail.com>. Make sure that the subject is of the form [&lt;group n.&gt;] LAB &lt;lab n.&gt;.\n",
    "\n",
    "### 1. Modeling\n",
    "\n",
    "Consider once again the simplified Monopoly game described in the Homework and for which you wrote a Markov chain model:\n",
    "\n",
    "<img src=\"monopoly.png\" width=\"300px\">\n",
    "\n",
    "Recall that your chain should describe a single player, where: \n",
    "\n",
    "* The player rolls a single die in each play; \n",
    "* The jail does not prevent the player from continuing to play. In other words, when landing on the “GO TO JAIL” cell, the player jumps back to the “JAIL” cell, but resumes play immediately."
   ]
  },
  {
   "cell_type": "markdown",
   "metadata": {
    "deletable": true,
    "editable": true
   },
   "source": [
    "---\n",
    "\n",
    "#### Activity 1.        \n",
    "\n",
    "Implement your Markov chain model in Python. In particular,\n",
    "\n",
    "* Create a list with all the states;\n",
    "* Define a `numpy` array with the corresponding transition probabilities.\n",
    "\n",
    "The order for the states used in the transition probability matrix should match that in the list of states. \n",
    "\n",
    "**Note 1**: Don't forget to import `numpy`.\n",
    "\n",
    "**Note 2**: Make sure to print the result in the end.\n",
    "\n",
    "---"
   ]
  },
  {
   "cell_type": "code",
   "execution_count": 15,
   "metadata": {
    "collapsed": false,
    "deletable": true,
    "editable": true
   },
   "outputs": [
    {
     "name": "stdout",
     "output_type": "stream",
     "text": [
      "Legenda:\n",
      " 0 = Collect $200\n",
      " 1 = Vermont Avenue\n",
      " 2 = Jail\n",
      " 3 = Virginia Avenue\n",
      " 4 = Free Parking\n",
      " 5 = Marvin Gardens\n",
      " 6 = Go To Jail\n",
      " 7 = Pennsylvania Avenue\n",
      "\n",
      "[0, 1, 2, 3, 4, 5, 6, 7]\n",
      "\n",
      "\n",
      " Pobabilities Matrix:\n",
      "[[ 0.          0.16666667  0.16666667  0.16666667  0.16666667  0.16666667\n",
      "   0.16666667  0.        ]\n",
      " [ 0.          0.          0.16666667  0.16666667  0.16666667  0.16666667\n",
      "   0.16666667  0.16666667]\n",
      " [ 0.16666667  0.          0.          0.16666667  0.16666667  0.16666667\n",
      "   0.16666667  0.16666667]\n",
      " [ 0.16666667  0.16666667  0.          0.          0.16666667  0.16666667\n",
      "   0.16666667  0.16666667]\n",
      " [ 0.16666667  0.16666667  0.16666667  0.          0.          0.16666667\n",
      "   0.16666667  0.16666667]\n",
      " [ 0.16666667  0.16666667  0.16666667  0.16666667  0.          0.\n",
      "   0.16666667  0.16666667]\n",
      " [ 0.          0.          1.          0.          0.          0.          0.\n",
      "   0.        ]\n",
      " [ 0.16666667  0.16666667  0.16666667  0.16666667  0.16666667  0.16666667\n",
      "   0.          0.        ]]\n"
     ]
    }
   ],
   "source": [
    "import numpy as np\n",
    "\n",
    "# 0 = Collect $200\n",
    "# 1 = Vermont Avenue\n",
    "# 2 = Jail\n",
    "# 3 = Virginia Avenue\n",
    "# 4 = Free Parking\n",
    "# 5 = Marvin Gardens\n",
    "# 6 = Go To Jail\n",
    "# 7 = Pennsylvania Avenue\n",
    "stateSpace = [0, 1, 2, 3, 4, 5, 6, 7]\n",
    "\n",
    "stateLabels = [\"Go\", \"VeA\", \"Ja\", \"ViA\", \"FP\", \"MG\", \"GoJ\", \"PA\"]\n",
    "\n",
    "x = 1/6\n",
    "\n",
    "probsArray = np.array([[0, x, x , x, x, x, x, 0],\n",
    "               [0, 0, x, x, x, x, x, x],\n",
    "               [x, 0, 0, x, x, x, x, x],\n",
    "               [x, x, 0, 0, x, x, x, x],\n",
    "               [x, x, x, 0, 0, x, x, x],\n",
    "               [x, x, x, x, 0, 0, x, x],\n",
    "               [0, 0, 1, 0, 0, 0, 0, 0],\n",
    "               [x, x, x, x, x, x, 0, 0]])\n",
    "\n",
    "\n",
    "print(\"Legenda:\\n\", \"0 = Collect $200\\n\", \"1 = Vermont Avenue\\n\", \"2 = Jail\\n\", \"3 = Virginia Avenue\\n\",\n",
    "     \"4 = Free Parking\\n\",\"5 = Marvin Gardens\\n\", \"6 = Go To Jail\\n\", \"7 = Pennsylvania Avenue\\n\")\n",
    "print(stateSpace)\n",
    "print(\"\\n\\n\", \"Pobabilities Matrix:\")\n",
    "print(probsArray)"
   ]
  },
  {
   "cell_type": "markdown",
   "metadata": {
    "deletable": true,
    "editable": true
   },
   "source": [
    "---\n",
    "\n",
    "#### Activity 2.\n",
    "\n",
    "Compute the probability of the following trajectories:\n",
    "\n",
    "* \"COLLECT \\$200\" - \"VERMONT AVENUE\" - \"GO TO JAIL\" - \"JAIL\"\n",
    "* \"COLLECT \\$200\" - \"GO TO JAIL\" - \"JAIL\" - \"COLLECT \\$200\"\n",
    "* \"COLLECT \\$200\" - \"PENNSYLVANIA AVENUE\" - \"COLLECT \\$200\"\n",
    "\n",
    "**Note:** Make sure to print the result in the end.\n",
    "\n",
    "---"
   ]
  },
  {
   "cell_type": "code",
   "execution_count": 16,
   "metadata": {
    "collapsed": false,
    "deletable": true,
    "editable": true
   },
   "outputs": [
    {
     "name": "stdout",
     "output_type": "stream",
     "text": [
      "Probability of the trajectory \"COLLECT $200\" - \"VERMONT AVENUE\" - \"GO TO JAIL\" - \"JAIL\" : \n",
      " 0.166666666667 * 0.166666666667 * * 1.0 = 0.0277777777778\n",
      "\n",
      "\n",
      "Probability of the trajectory \"COLLECT $200\" - \"GO TO JAIL\" - \"JAIL\" - \"COLLECT $200\": \n",
      " 0.166666666667 * 1.0 * 0.166666666667 = 0.0277777777778\n",
      "\n",
      "\n",
      "Probability of the trajectory \"COLLECT $200\" - \"PENNSYLVANIA AVENUE\" - \"COLLECT $200\": \n",
      " 0.0 * 0.166666666667 = 0.0\n"
     ]
    }
   ],
   "source": [
    "# \"COLLECT $200\" - \"VERMONT AVENUE\" - \"GO TO JAIL\" - \"JAIL\"\n",
    "# Probs = (0,1), (1,6), (6,2)\n",
    "\n",
    "trajectoryProb1 = probsArray[0, 1] * probsArray[1, 6] * probsArray[6, 2]\n",
    "\n",
    "print(\"Probability of the trajectory \\\"COLLECT $200\\\" - \\\"VERMONT AVENUE\\\" - \\\"GO TO JAIL\\\" - \\\"JAIL\\\" : \\n\", \n",
    "      probsArray[0, 1], \"*\", probsArray[1, 6], \"*\", \"*\", probsArray[6, 2], \"=\", trajectoryProb1)\n",
    "print(\"\\n\")\n",
    "\n",
    "\n",
    "# \"COLLECT $200\" - \"GO TO JAIL\" - \"JAIL\" - \"COLLECT $200\"\n",
    "# Probs = (0, 6), (6, 2), (2, 0)\n",
    "trajectoryProb2 = probsArray[0, 6] * probsArray[6, 2] * probsArray[2, 0]\n",
    "\n",
    "print(\"Probability of the trajectory \\\"COLLECT $200\\\" - \\\"GO TO JAIL\\\" - \\\"JAIL\\\" - \\\"COLLECT $200\\\": \\n\", \n",
    "      probsArray[0, 6], \"*\", probsArray[6, 2], \"*\", probsArray[2, 0], \"=\", trajectoryProb2)\n",
    "print(\"\\n\")\n",
    "\n",
    "\n",
    "# \"COLLECT $200\" - \"PENNSYLVANIA AVENUE\" - \"COLLECT $200\"\n",
    "# Probs = (0, 7), (7, 0)\n",
    "trajectoryProbability3 = probsArray[0, 7] * probsArray[7, 0]\n",
    "\n",
    "print(\"Probability of the trajectory \\\"COLLECT $200\\\" - \\\"PENNSYLVANIA AVENUE\\\" - \\\"COLLECT $200\\\": \\n\", \n",
    "      probsArray[0,7], \"*\", probsArray[7, 0], \"=\", trajectoryProbability3)"
   ]
  },
  {
   "cell_type": "markdown",
   "metadata": {
    "deletable": true,
    "editable": true
   },
   "source": [
    "### 2. Stability"
   ]
  },
  {
   "cell_type": "markdown",
   "metadata": {
    "deletable": true,
    "editable": true
   },
   "source": [
    "---\n",
    "\n",
    "#### Activity 3.\n",
    "\n",
    "Justify whether the chain implemented in Activity #1 is:\n",
    "\n",
    "* Irreducible\n",
    "* Aperiodic\n",
    "* Ergodic\n",
    "\n",
    "---"
   ]
  },
  {
   "cell_type": "markdown",
   "metadata": {
    "deletable": true,
    "editable": true
   },
   "source": [
    "**Irreducible:**\n",
    "The chain is irreducible because from any given state you can find a trajectory that reaches any other possible state (only one communicating class). Also, there is only one communicating class, therefore, all states are communicating. And a Markov Chain is Irreducible if, for any given states **x**, **y** ∈ *X*, x and y are communicating (x <-> y).\n",
    "\n",
    "**Aperiodic:**\n",
    "Definition: The chain is aperiodic if from any given state, *X*, the greatest common divider of the time steps of any trajectory that comes back to *X* is 1.\n",
    "\n",
    "Definition: If a Markov Chain, *M* = (*X* , **P** ) is an irreducible chain (which is the case) and there is **x** ∈ *X* such that **x** is aperiodic, then *M* is aperiodic.\n",
    "\n",
    "If in t=0 we are in the state \"Pennsylvania Avenue\", because of the nature of the board and of the die (6 sided, with equal probability) we can say that it's impossible to make a rule that says when \"Pennsylvania Avenue\" will again be reached, that moment can happen in t=2, t=3, t=4, ... . Therefore, we can conclude that the greatest common divider is 1 (period). With this, we can say that the state is aperiodic, so the MC is also aperiodic.\n",
    "\n",
    "**Ergodic:** \n",
    "Definition: An irreducible and aperiodic Markov Chain has a stationary distribution.\n",
    "\n",
    "Definition: An ergodic Markov Chain eventually reaches the stationary distribution.\n",
    "\n",
    "The chain is ergodic because it is irreducible and aperiodic.\n"
   ]
  },
  {
   "cell_type": "markdown",
   "metadata": {
    "deletable": true,
    "editable": true
   },
   "source": [
    "---\n",
    "\n",
    "#### Activity 4\n",
    "\n",
    "Compute the stationary distribution for the chain.\n",
    "\n",
    "**Note:** The stationary distribution is a *left* eigenvector of the transition probability matrix associated to the eigenvalue 1. As such, you may find useful the numpy function `numpy.linalg.eig`. Also, recall that the stationary distribution is *a distribution*.\n",
    "\n",
    "---"
   ]
  },
  {
   "cell_type": "code",
   "execution_count": 17,
   "metadata": {
    "collapsed": false,
    "deletable": true,
    "editable": true
   },
   "outputs": [
    {
     "name": "stdout",
     "output_type": "stream",
     "text": [
      "[ 0.11131135  0.09350154  0.21817025  0.10940316  0.1068589   0.12466872\n",
      "  0.12731899  0.10876709]\n"
     ]
    },
    {
     "data": {
      "image/png": "[encoded data removed]",
      "text/plain": [
       "<matplotlib.figure.Figure at 0x1344c815e48>"
      ]
     },
     "metadata": {},
     "output_type": "display_data"
    }
   ],
   "source": [
    "import matplotlib.pyplot as plt\n",
    "\n",
    "eVal, eVec = np.linalg.eig(probsArray.T)\n",
    "\n",
    "#getting the index of the eigenvalue 1\n",
    "eVal1 = (np.abs(eVal - 1)).argmin()\n",
    "\n",
    "#associated column\n",
    "statDist = np.array(eVec[:,eVal1])\n",
    "statDist = statDist.real\n",
    "\n",
    "#the sum should be one, so we normalize\n",
    "statDist = statDist/np.sum(statDist)\n",
    "\n",
    "print(statDist)\n",
    "\n",
    "#plot\n",
    "plotWidth = 0.4\n",
    "plt.bar(np.arange(8), statDist, width = plotWidth, color = 'r')\n",
    "plt.xticks(np.arange(8), stateLabels)\n",
    "\n",
    "plt.show()"
   ]
  },
  {
   "cell_type": "markdown",
   "metadata": {
    "deletable": true,
    "editable": true
   },
   "source": [
    "### 3. Simulation\n",
    "\n",
    "You are now going to *simulate* the Markov chain that you defined in Question #1."
   ]
  },
  {
   "cell_type": "markdown",
   "metadata": {
    "deletable": true,
    "editable": true
   },
   "source": [
    "---\n",
    "\n",
    "#### Activity 5\n",
    "\n",
    "Generate a 10,000-step long trajectory of the chain defined in Activity #1. \n",
    "\n",
    "---"
   ]
  },
  {
   "cell_type": "code",
   "execution_count": 22,
   "metadata": {
    "collapsed": false,
    "deletable": true,
    "editable": true
   },
   "outputs": [
    {
     "name": "stdout",
     "output_type": "stream",
     "text": [
      "[0, 4, 6, 2, 3, 6, 2, 0, 6, 2, 7, 0, 2, 0, 6, 2, 5, 2, 6, 2, 5, 2, 6, 2, 7, 3, 6, 2, 5, 0, 4, 0, 6, 2, 4, 1, 4, 7, 4, 0, 6, 2, 6, 2, 5, 0, 1, 5, 1, 5, 6, 2, 6, 2, 7, 0, 6, 2, 0, 4, 2, 3, 4, 6, 2, 5, 1, 5, 7, 5, 2, 5, 0, 6, 2, 3, 0, 4, 6, 2, 5, 7, 4, 5, 1, 7, 2, 3, 0, 1, 3, 1, 7, 1, 4, 1, 5, 1, 2, 7, 1, 7, 2, 7, 0, 2, 3, 6, 2, 7, 2, 6, 2, 6, 2, 7, 1, 4, 6, 2, 0, 5, 7, 5, 6, 2, 4, 0, 2, 5, 3, 1, 4, 6, 2, 0, 2, 0, 6, 2, 6, 2, 4, 0, 5, 3, 6, 2, 7, 4, 6, 2, 6, 2, 6, 2, 3, 4, 1, 6, 2, 6, 2, 3, 7, 1, 7, 5, 3, 0, 6, 2, 6, 2, 3, 1, 5, 3, 7, 3, 1, 2, 5, 6, 2, 6, 2, 5, 2, 3, 0, 4, 5, 2, 0, 4, 6, 2, 4, 1, 6, 2, 4, 2, 0, 3, 7, 1, 6, 2, 7, 3, 0, 6, 2, 0, 2, 6, 2, 5, 2, 4, 6, 2, 0, 4, 7, 1, 3, 5, 7, 1, 6, 2, 6, 2, 0, 1, 4, 7, 0, 4, 0, 3, 1, 4, 2, 4, 5, 1, 7, 0, 4, 0, 1, 6, 2, 0, 2, 4, 1, 5, 1, 7, 0, 2, 6, 2, 7, 0, 3, 7, 0, 2, 4, 1, 3, 4, 6, 2, 3, 7, 2, 3, 4, 1, 3, 0, 3, 5, 1, 5, 3, 6, 2, 5, 7, 0, 3, 0, 6, 2, 5, 7, 2, 4, 2, 5, 0, 5, 0, 2, 5, 0, 5, 6, 2, 0, 3, 0, 6, 2, 5, 1, 5, 1, 7, 0, 6, 2, 7, 0, 6, 2, 3, 6, 2, 5, 7, 1, 3, 4, 0, 2, 5, 0, 4, 1, 5, 6, 2, 4, 6, 2, 5, 7, 1, 7, 5, 2, 6, 2, 0, 3, 6, 2, 6, 2, 6, 2, 6, 2, 5, 7, 1, 5, 7, 1, 3, 7, 3, 7, 0, 3, 1, 4, 5, 7, 5, 3, 1, 5, 3, 5, 1, 4, 1, 6, 2, 7, 4, 1, 6, 2, 4, 5, 0, 1, 5, 6, 2, 6, 2, 3, 1, 5, 0, 1, 6, 2, 6, 2, 6, 2, 7, 1, 3, 6, 2, 0, 3, 0, 6, 2, 4, 2, 3, 6, 2, 5, 1, 6, 2, 3, 0, 3, 6, 2, 4, 2, 5, 7, 5, 7, 0, 2, 5, 6, 2, 7, 2, 3, 6, 2, 7, 0, 3, 6, 2, 4, 2, 7, 1, 5, 3, 7, 5, 1, 5, 6, 2, 3, 7, 5, 0, 4, 7, 3, 1, 5, 2, 0, 6, 2, 5, 7, 0, 1, 6, 2, 7, 4, 2, 5, 3, 7, 2, 5, 7, 5, 1, 5, 2, 6, 2, 5, 6, 2, 7, 3, 4, 0, 4, 2, 6, 2, 4, 2, 4, 6, 2, 3, 7, 0, 1, 7, 5, 3, 1, 7, 0, 6, 2, 0, 6, 2, 0, 5, 6, 2, 6, 2, 4, 0, 4, 6, 2, 4, 0, 6, 2, 5, 7, 4, 2, 4, 1, 2, 5, 6, 2, 6, 2, 5, 3, 7, 1, 6, 2, 7, 5, 1, 5, 3, 0, 4, 5, 1, 7, 2, 6, 2, 5, 6, 2, 0, 5, 2, 0, 3, 5, 0, 1, 2, 6, 2, 4, 1, 4, 0, 4, 0, 4, 1, 7, 4, 6, 2, 4, 1, 6, 2, 3, 1, 6, 2, 3, 4, 5, 6, 2, 3, 5, 3, 0, 2, 3, 4, 2, 0, 4, 2, 0, 4, 7, 0, 4, 5, 1, 5, 3, 1, 6, 2, 6, 2, 3, 7, 3, 1, 3, 4, 7, 3, 0, 1, 4, 7, 0, 1, 3, 4, 2, 4, 1, 2, 5, 6, 2, 0, 2, 5, 7, 4, 6, 2, 6, 2, 6, 2, 7, 5, 3, 6, 2, 5, 1, 6, 2, 6, 2, 6, 2, 0, 4, 1, 7, 5, 7, 0, 4, 1, 3, 0, 1, 7, 1, 2, 0, 3, 1, 6, 2, 4, 2, 0, 6, 2, 3, 4, 6, 2, 5, 6, 2, 0, 5, 6, 2, 7, 1, 7, 2, 7, 1, 3, 6, 2, 5, 7, 4, 0, 1, 3, 7, 2, 0, 1, 5, 3, 5, 0, 3, 7, 1, 6, 2, 0, 4, 7, 2, 5, 6, 2, 6, 2, 0, 4, 6, 2, 7, 5, 0, 6, 2, 7, 0, 6, 2, 5, 0, 5, 7, 3, 7, 4, 1, 5, 6, 2, 4, 1, 4, 2, 3, 5, 7, 5, 3, 4, 0, 2, 7, 5, 6, 2, 4, 2, 0, 6, 2, 4, 7, 2, 5, 3, 4, 6, 2, 7, 3, 4, 0, 5, 0, 5, 6, 2, 7, 1, 4, 6, 2, 6, 2, 6, 2, 7, 3, 1, 5, 3, 0, 3, 6, 2, 4, 2, 7, 3, 0, 4, 1, 3, 1, 2, 7, 2, 7, 1, 4, 0, 6, 2, 7, 4, 6, 2, 5, 1, 5, 2, 4, 2, 0, 1, 2, 3, 7, 5, 2, 7, 5, 7, 5, 1, 3, 7, 0, 5, 3, 0, 4, 5, 1, 4, 6, 2, 0, 4, 2, 7, 2, 4, 6, 2, 4, 7, 2, 6, 2, 7, 1, 5, 3, 7, 4, 0, 5, 7, 0, 1, 5, 7, 4, 0, 3, 1, 5, 2, 6, 2, 5, 1, 4, 1, 3, 1, 2, 7, 2, 0, 3, 6, 2, 4, 7, 5, 2, 3, 0, 5, 1, 2, 0, 6, 2, 6, 2, 0, 2, 7, 2, 6, 2, 0, 5, 3, 4, 0, 2, 0, 4, 2, 6, 2, 4, 7, 3, 0, 2, 0, 6, 2, 0, 6, 2, 7, 3, 0, 4, 0, 3, 5, 1, 5, 2, 0, 5, 7, 5, 2, 3, 0, 5, 0, 1, 7, 2, 5, 1, 2, 4, 1, 6, 2, 7, 4, 5, 3, 6, 2, 6, 2, 4, 7, 4, 5, 7, 5, 1, 3, 4, 0, 6, 2, 4, 6, 2, 5, 1, 5, 6, 2, 3, 4, 6, 2, 6, 2, 3, 4, 2, 5, 7, 3, 4, 2, 5, 7, 3, 7, 1, 4, 1, 7, 4, 7, 0, 5, 6, 2, 6, 2, 5, 7, 1, 7, 0, 3, 1, 3, 4, 1, 3, 5, 3, 4, 6, 2, 3, 0, 3, 7, 2, 4, 0, 2, 3, 0, 6, 2, 6, 2, 3, 0, 5, 7, 2, 0, 4, 6, 2, 5, 7, 4, 7, 5, 1, 2, 3, 1, 4, 1, 5, 3, 7, 2, 3, 0, 3, 7, 5, 0, 5, 2, 7, 2, 7, 4, 0, 6, 2, 3, 7, 1, 6, 2, 3, 0, 1, 6, 2, 6, 2, 5, 7, 0, 2, 6, 2, 5, 6, 2, 0, 3, 7, 1, 5, 3, 1, 3, 7, 3, 7, 4, 6, 2, 4, 5, 7, 2, 3, 6, 2, 0, 5, 0, 1, 5, 0, 3, 6, 2, 6, 2, 5, 2, 4, 0, 1, 7, 3, 4, 7, 2, 7, 0, 2, 3, 5, 1, 4, 6, 2, 3, 7, 0, 4, 5, 3, 6, 2, 4, 7, 4, 7, 3, 0, 2, 0, 6, 2, 6, 2, 6, 2, 0, 2, 5, 7, 3, 5, 7, 0, 3, 1, 7, 5, 2, 3, 6, 2, 0, 1, 7, 1, 2, 6, 2, 0, 2, 0, 1, 5, 1, 3, 1, 5, 3, 5, 2, 3, 4, 1, 2, 5, 2, 3, 5, 0, 2, 0, 6, 2, 0, 4, 2, 4, 1, 6, 2, 5, 6, 2, 3, 6, 2, 3, 4, 2, 3, 0, 1, 6, 2, 6, 2, 7, 0, 1, 4, 2, 6, 2, 4, 5, 6, 2, 7, 0, 2, 6, 2, 5, 0, 5, 2, 5, 3, 0, 4, 2, 6, 2, 3, 1, 5, 3, 4, 2, 5, 1, 4, 2, 6, 2, 0, 5, 3, 5, 6, 2, 7, 3, 5, 1, 5, 2, 5, 6, 2, 3, 7, 1, 6, 2, 3, 7, 4, 5, 3, 6, 2, 7, 5, 0, 3, 6, 2, 4, 2, 3, 7, 4, 0, 6, 2, 3, 6, 2, 6, 2, 5, 7, 0, 5, 1, 5, 2, 3, 6, 2, 3, 4, 1, 7, 4, 2, 7, 5, 0, 3, 5, 2, 3, 0, 4, 2, 6, 2, 3, 1, 6, 2, 7, 3, 4, 6, 2, 3, 7, 5, 6, 2, 3, 6, 2, 6, 2, 3, 4, 1, 3, 4, 7, 1, 6, 2, 3, 1, 4, 6, 2, 0, 1, 5, 3, 4, 5, 2, 0, 3, 6, 2, 5, 0, 1, 4, 5, 0, 1, 5, 1, 6, 2, 7, 1, 4, 0, 1, 7, 2, 0, 6, 2, 5, 0, 2, 3, 0, 6, 2, 0, 3, 7, 0, 3, 5, 2, 0, 4, 0, 1, 2, 7, 3, 4, 6, 2, 5, 0, 5, 0, 6, 2, 6, 2, 4, 6, 2, 7, 0, 5, 7, 4, 5, 6, 2, 3, 6, 2, 0, 3, 4, 0, 4, 6, 2, 6, 2, 3, 5, 2, 4, 6, 2, 3, 5, 3, 0, 6, 2, 0, 6, 2, 0, 1, 2, 4, 7, 4, 6, 2, 3, 4, 7, 3, 5, 2, 6, 2, 4, 2, 0, 6, 2, 6, 2, 3, 6, 2, 7, 4, 1, 3, 0, 6, 2, 7, 5, 6, 2, 0, 5, 6, 2, 5, 6, 2, 7, 5, 6, 2, 7, 5, 3, 5, 2, 3, 5, 0, 5, 1, 5, 7, 4, 1, 5, 7, 0, 4, 7, 3, 6, 2, 5, 2, 6, 2, 5, 1, 7, 0, 3, 1, 4, 6, 2, 3, 4, 7, 4, 6, 2, 4, 0, 6, 2, 5, 3, 4, 1, 3, 1, 5, 0, 5, 2, 4, 0, 3, 0, 5, 0, 3, 4, 7, 1, 6, 2, 0, 6, 2, 4, 2, 5, 2, 5, 0, 5, 2, 7, 0, 5, 0, 5, 2, 3, 6, 2, 0, 3, 5, 0, 5, 7, 1, 2, 0, 3, 4, 0, 3, 5, 2, 5, 7, 4, 7, 0, 2, 4, 5, 0, 2, 3, 5, 0, 3, 7, 0, 3, 0, 2, 7, 2, 7, 2, 3, 6, 2, 4, 0, 3, 6, 2, 3, 0, 1, 7, 0, 1, 7, 4, 6, 2, 4, 5, 3, 6, 2, 0, 4, 0, 4, 5, 3, 4, 7, 0, 5, 0, 2, 6, 2, 0, 5, 1, 5, 7, 4, 7, 5, 6, 2, 4, 1, 2, 6, 2, 6, 2, 5, 7, 3, 1, 4, 7, 2, 4, 5, 7, 5, 6, 2, 3, 0, 5, 1, 4, 5, 0, 1, 3, 4, 6, 2, 3, 6, 2, 0, 2, 7, 2, 4, 1, 5, 3, 7, 4, 6, 2, 5, 3, 6, 2, 5, 6, 2, 4, 0, 5, 0, 3, 7, 1, 7, 2, 7, 1, 5, 3, 1, 5, 2, 3, 5, 7, 3, 7, 4, 6, 2, 6, 2, 3, 1, 7, 3, 6, 2, 4, 5, 0, 5, 1, 2, 3, 1, 6, 2, 6, 2, 3, 0, 4, 7, 3, 5, 3, 6, 2, 5, 0, 3, 1, 6, 2, 5, 6, 2, 0, 4, 5, 3, 6, 2, 3, 0, 3, 4, 1, 2, 5, 3, 1, 6, 2, 3, 6, 2, 7, 1, 3, 0, 4, 1, 4, 0, 5, 6, 2, 5, 7, 2, 7, 3, 0, 4, 2, 7, 3, 4, 6, 2, 4, 0, 6, 2, 5, 0, 5, 6, 2, 4, 2, 4, 0, 5, 6, 2, 7, 2, 3, 1, 3, 5, 7, 2, 7, 3, 5, 2, 4, 6, 2, 5, 2, 0, 5, 3, 7, 1, 6, 2, 3, 0, 2, 0, 3, 0, 5, 7, 0, 5, 7, 2, 6, 2, 6, 2, 6, 2, 3, 1, 6, 2, 5, 6, 2, 5, 7, 1, 5, 3, 5, 2, 6, 2, 3, 5, 0, 5, 1, 2, 4, 1, 6, 2, 6, 2, 0, 3, 4, 1, 7, 0, 1, 3, 1, 4, 0, 3, 5, 3, 5, 0, 6, 2, 0, 6, 2, 4, 5, 6, 2, 3, 0, 2, 6, 2, 3, 5, 1, 3, 5, 2, 3, 4, 0, 4, 2, 4, 6, 2, 0, 5, 3, 1, 2, 7, 3, 4, 2, 5, 3, 1, 4, 1, 4, 5, 3, 0, 3, 6, 2, 7, 1, 7, 3, 4, 1, 2, 6, 2, 0, 1, 7, 1, 2, 0, 5, 7, 3, 5, 3, 5, 3, 4, 2, 6, 2, 4, 1, 6, 2, 0, 2, 3, 6, 2, 5, 7, 4, 7, 4, 6, 2, 4, 1, 3, 4, 2, 0, 3, 7, 0, 2, 7, 4, 5, 0, 1, 4, 7, 4, 0, 2, 5, 2, 0, 4, 2, 4, 2, 7, 2, 6, 2, 4, 7, 3, 6, 2, 6, 2, 4, 7, 0, 6, 2, 5, 7, 5, 2, 3, 4, 1, 4, 2, 4, 6, 2, 7, 2, 0, 6, 2, 3, 6, 2, 0, 6, 2, 4, 5, 0, 1, 3, 1, 5, 0, 4, 6, 2, 6, 2, 6, 2, 3, 1, 2, 4, 5, 7, 2, 7, 5, 6, 2, 0, 2, 0, 1, 3, 6, 2, 0, 1, 7, 5, 0, 5, 7, 4, 0, 5, 6, 2, 3, 1, 7, 1, 7, 5, 0, 5, 6, 2, 5, 3, 7, 0, 4, 1, 7, 0, 5, 6, 2, 6, 2, 6, 2, 3, 7, 5, 1, 2, 4, 5, 3, 7, 3, 0, 3, 4, 0, 6, 2, 6, 2, 7, 2, 3, 7, 3, 4, 2, 6, 2, 6, 2, 5, 2, 0, 3, 4, 6, 2, 3, 7, 4, 1, 7, 2, 3, 0, 3, 4, 5, 2, 7, 3, 7, 2, 5, 0, 4, 6, 2, 6, 2, 4, 1, 4, 2, 6, 2, 5, 2, 6, 2, 7, 2, 0, 5, 6, 2, 4, 5, 0, 5, 2, 4, 6, 2, 6, 2, 7, 5, 2, 7, 3, 6, 2, 7, 2, 7, 4, 7, 4, 7, 3, 0, 3, 7, 2, 6, 2, 6, 2, 3, 5, 0, 6, 2, 6, 2, 7, 0, 3, 5, 2, 0, 5, 1, 5, 7, 2, 5, 0, 1, 2, 0, 4, 1, 2, 3, 4, 6, 2, 0, 2, 0, 3, 1, 3, 5, 6, 2, 4, 5, 6, 2, 3, 5, 1, 5, 7, 2, 6, 2, 7, 2, 6, 2, 4, 1, 5, 2, 4, 1, 4, 7, 0, 2, 3, 1, 2, 6, 2, 0, 5, 0, 2, 6, 2, 4, 1, 3, 6, 2, 5, 1, 2, 6, 2, 4, 5, 6, 2, 0, 4, 5, 2, 7, 1, 5, 6, 2, 0, 1, 7, 3, 1, 6, 2, 5, 1, 3, 7, 4, 7, 5, 1, 2, 6, 2, 0, 1, 3, 1, 4, 6, 2, 3, 7, 4, 2, 5, 1, 6, 2, 7, 2, 5, 1, 2, 5, 7, 2, 3, 6, 2, 4, 5, 6, 2, 3, 6, 2, 3, 1, 7, 2, 7, 5, 6, 2, 4, 0, 1, 7, 0, 4, 1, 4, 0, 6, 2, 6, 2, 6, 2, 7, 5, 2, 3, 4, 5, 3, 6, 2, 0, 2, 7, 5, 2, 5, 1, 2, 0, 5, 6, 2, 6, 2, 6, 2, 5, 1, 3, 5, 3, 7, 4, 0, 6, 2, 5, 7, 3, 0, 2, 6, 2, 0, 5, 2, 4, 2, 7, 1, 2, 5, 0, 2, 5, 7, 3, 0, 2, 4, 2, 7, 0, 6, 2, 3, 7, 4, 2, 6, 2, 0, 2, 4, 0, 1, 4, 1, 5, 2, 0, 1, 4, 5, 7, 5, 2, 0, 4, 5, 1, 6, 2, 6, 2, 3, 5, 2, 6, 2, 6, 2, 4, 1, 3, 5, 6, 2, 4, 0, 1, 7, 1, 3, 5, 7, 1, 6, 2, 6, 2, 0, 2, 0, 1, 5, 0, 4, 2, 6, 2, 3, 5, 1, 5, 7, 4, 6, 2, 0, 4, 5, 7, 2, 4, 1, 7, 0, 6, 2, 0, 2, 5, 3, 7, 3, 0, 4, 2, 3, 6, 2, 6, 2, 3, 0, 3, 7, 5, 6, 2, 4, 5, 1, 5, 2, 0, 6, 2, 7, 3, 7, 3, 0, 5, 7, 5, 3, 1, 6, 2, 0, 3, 4, 6, 2, 0, 2, 6, 2, 3, 1, 5, 7, 0, 5, 0, 5, 6, 2, 0, 6, 2, 0, 3, 7, 1, 7, 3, 0, 3, 0, 1, 6, 2, 3, 6, 2, 3, 1, 4, 0, 3, 5, 2, 3, 4, 0, 6, 2, 6, 2, 3, 4, 0, 2, 3, 0, 3, 5, 2, 4, 0, 3, 6, 2, 7, 3, 7, 3, 4, 0, 3, 4, 6, 2, 4, 5, 3, 1, 4, 6, 2, 7, 5, 2, 7, 2, 4, 2, 4, 6, 2, 5, 0, 4, 5, 3, 6, 2, 7, 2, 3, 6, 2, 4, 6, 2, 3, 0, 1, 3, 4, 2, 5, 7, 4, 7, 2, 3, 5, 0, 5, 0, 6, 2, 4, 2, 5, 2, 3, 0, 2, 6, 2, 3, 5, 3, 6, 2, 7, 4, 7, 1, 6, 2, 0, 3, 4, 5, 3, 1, 5, 0, 2, 6, 2, 5, 7, 3, 6, 2, 5, 2, 4, 7, 3, 5, 0, 4, 0, 5, 2, 5, 2, 0, 1, 6, 2, 6, 2, 3, 1, 7, 5, 7, 3, 1, 5, 3, 0, 5, 0, 4, 7, 1, 2, 3, 6, 2, 6, 2, 3, 7, 3, 0, 6, 2, 5, 7, 1, 3, 7, 5, 6, 2, 6, 2, 4, 5, 0, 4, 5, 2, 6, 2, 7, 1, 3, 6, 2, 3, 0, 5, 6, 2, 6, 2, 4, 2, 5, 0, 6, 2, 3, 5, 0, 4, 6, 2, 5, 3, 4, 1, 2, 6, 2, 4, 0, 1, 6, 2, 4, 0, 5, 6, 2, 6, 2, 4, 2, 0, 3, 5, 0, 4, 2, 3, 0, 5, 0, 1, 7, 1, 4, 7, 3, 5, 7, 5, 1, 2, 7, 3, 6, 2, 4, 6, 2, 0, 4, 0, 2, 0, 5, 2, 5, 6, 2, 4, 0, 5, 0, 5, 1, 4, 5, 2, 7, 4, 2, 7, 3, 5, 7, 0, 1, 3, 0, 1, 6, 2, 5, 1, 3, 1, 3, 0, 5, 1, 2, 7, 3, 0, 2, 4, 0, 1, 2, 3, 7, 5, 0, 2, 6, 2, 3, 1, 7, 1, 7, 4, 6, 2, 4, 7, 3, 6, 2, 0, 2, 6, 2, 5, 3, 7, 3, 7, 0, 6, 2, 6, 2, 6, 2, 4, 5, 2, 5, 7, 1, 2, 5, 0, 4, 7, 0, 6, 2, 0, 6, 2, 5, 6, 2, 3, 1, 3, 5, 1, 5, 7, 1, 7, 2, 3, 4, 1, 5, 0, 6, 2, 6, 2, 5, 0, 2, 5, 6, 2, 4, 2, 3, 4, 2, 3, 5, 1, 4, 7, 3, 7, 2, 6, 2, 0, 3, 6, 2, 7, 0, 5, 1, 6, 2, 7, 0, 6, 2, 6, 2, 7, 1, 2, 5, 0, 1, 4, 7, 4, 6, 2, 6, 2, 3, 5, 3, 4, 5, 7, 1, 2, 7, 0, 4, 6, 2, 0, 3, 4, 7, 0, 3, 6, 2, 3, 4, 0, 4, 5, 6, 2, 4, 7, 0, 6, 2, 0, 5, 6, 2, 3, 0, 2, 3, 4, 6, 2, 4, 2, 0, 5, 3, 4, 5, 7, 1, 3, 4, 2, 6, 2, 0, 2, 5, 6, 2, 4, 6, 2, 5, 6, 2, 6, 2, 0, 6, 2, 0, 1, 7, 4, 7, 2, 3, 7, 0, 2, 6, 2, 0, 1, 4, 5, 7, 4, 1, 4, 7, 1, 2, 5, 2, 7, 1, 7, 4, 6, 2, 7, 0, 3, 4, 0, 6, 2, 6, 2, 7, 4, 5, 2, 3, 4, 0, 2, 5, 0, 3, 5, 1, 7, 5, 2, 7, 3, 5, 2, 3, 7, 0, 2, 6, 2, 3, 1, 2, 0, 1, 7, 4, 0, 1, 2, 7, 1, 3, 6, 2, 6, 2, 3, 0, 4, 6, 2, 3, 6, 2, 4, 7, 4, 7, 1, 2, 3, 4, 6, 2, 4, 1, 4, 5, 0, 2, 5, 3, 4, 1, 4, 5, 2, 4, 6, 2, 3, 0, 5, 7, 4, 0, 3, 0, 2, 7, 0, 1, 5, 2, 7, 3, 0, 4, 6, 2, 3, 6, 2, 7, 5, 3, 7, 3, 4, 7, 2, 7, 0, 1, 3, 5, 3, 4, 0, 6, 2, 7, 2, 4, 2, 5, 0, 5, 7, 4, 7, 0, 5, 2, 3, 7, 3, 7, 3, 1, 6, 2, 0, 3, 5, 3, 6, 2, 7, 1, 2, 0, 5, 0, 6, 2, 7, 4, 0, 2, 0, 2, 6, 2, 6, 2, 5, 3, 4, 7, 2, 3, 6, 2, 5, 1, 4, 2, 5, 0, 1, 2, 3, 7, 0, 1, 2, 0, 1, 6, 2, 4, 7, 5, 0, 3, 7, 0, 1, 2, 0, 2, 6, 2, 6, 2, 6, 2, 6, 2, 4, 2, 4, 0, 4, 5, 7, 4, 2, 6, 2, 7, 4, 2, 4, 5, 7, 4, 5, 2, 0, 4, 6, 2, 4, 5, 2, 4, 2, 4, 5, 0, 2, 4, 1, 4, 6, 2, 4, 0, 6, 2, 3, 7, 1, 2, 3, 5, 2, 5, 3, 7, 4, 2, 5, 2, 7, 1, 2, 0, 4, 7, 0, 2, 0, 5, 0, 3, 0, 6, 2, 0, 1, 5, 3, 4, 6, 2, 4, 0, 1, 3, 4, 7, 5, 3, 1, 2, 4, 5, 6, 2, 5, 2, 4, 1, 4, 2, 0, 1, 4, 1, 6, 2, 3, 7, 0, 2, 0, 3, 0, 3, 6, 2, 6, 2, 7, 4, 1, 6, 2, 4, 1, 7, 4, 1, 6, 2, 5, 2, 7, 0, 1, 3, 5, 1, 4, 1, 7, 1, 3, 0, 4, 7, 5, 6, 2, 4, 7, 4, 5, 2, 6, 2, 4, 6, 2, 3, 5, 6, 2, 5, 0, 3, 6, 2, 3, 6, 2, 0, 5, 3, 6, 2, 0, 1, 4, 6, 2, 3, 0, 4, 1, 6, 2, 0, 2, 6, 2, 7, 2, 3, 5, 7, 2, 4, 2, 5, 3, 6, 2, 3, 4, 5, 2, 6, 2, 5, 7, 1, 4, 1, 5, 3, 1, 4, 0, 5, 6, 2, 3, 5, 0, 4, 6, 2, 7, 2, 0, 1, 6, 2, 0, 3, 6, 2, 0, 1, 4, 7, 2, 0, 6, 2, 7, 4, 7, 1, 7, 5, 2, 3, 0, 1, 6, 2, 6, 2, 4, 6, 2, 5, 2, 4, 1, 5, 3, 0, 1, 5, 2, 0, 3, 0, 4, 1, 5, 6, 2, 6, 2, 4, 6, 2, 3, 1, 6, 2, 0, 5, 2, 7, 2, 6, 2, 6, 2, 4, 5, 6, 2, 6, 2, 4, 6, 2, 7, 3, 0, 2, 5, 0, 5, 3, 5, 3, 0, 4, 2, 6, 2, 5, 6, 2, 7, 0, 3, 7, 1, 7, 4, 1, 2, 0, 4, 6, 2, 6, 2, 5, 3, 4, 7, 5, 2, 7, 1, 5, 3, 6, 2, 3, 6, 2, 4, 0, 1, 4, 7, 2, 7, 0, 6, 2, 6, 2, 5, 6, 2, 0, 3, 1, 5, 6, 2, 3, 5, 6, 2, 4, 2, 0, 6, 2, 6, 2, 0, 6, 2, 4, 7, 5, 7, 2, 5, 3, 0, 3, 4, 1, 4, 2, 3, 4, 0, 5, 2, 7, 2, 0, 3, 0, 3, 7, 0, 2, 0, 6, 2, 4, 1, 7, 2, 4, 1, 2, 7, 5, 2, 5, 2, 6, 2, 7, 4, 5, 1, 6, 2, 6, 2, 7, 1, 5, 3, 5, 1, 4, 5, 7, 3, 4, 0, 2, 0, 6, 2, 0, 4, 5, 1, 4, 1, 5, 7, 4, 2, 3, 4, 5, 2, 5, 2, 5, 0, 1, 7, 1, 6, 2, 5, 2, 5, 7, 2, 7, 4, 1, 2, 0, 5, 3, 1, 5, 6, 2, 4, 7, 5, 2, 6, 2, 3, 7, 1, 7, 3, 5, 1, 4, 5, 0, 2, 3, 5, 3, 5, 2, 0, 3, 6, 2, 6, 2, 7, 0, 2, 3, 5, 2, 3, 1, 7, 0, 4, 2, 3, 7, 3, 7, 1, 6, 2, 6, 2, 7, 0, 6, 2, 5, 1, 4, 7, 2, 3, 7, 5, 7, 0, 1, 7, 2, 4, 6, 2, 7, 3, 0, 1, 3, 6, 2, 6, 2, 5, 2, 5, 6, 2, 4, 2, 0, 1, 7, 0, 5, 3, 5, 6, 2, 4, 0, 4, 7, 4, 6, 2, 4, 7, 3, 0, 6, 2, 5, 3, 5, 3, 6, 2, 6, 2, 7, 3, 7, 0, 6, 2, 0, 3, 6, 2, 3, 1, 7, 2, 6, 2, 0, 4, 2, 0, 4, 0, 6, 2, 5, 6, 2, 3, 0, 1, 7, 1, 2, 0, 1, 5, 1, 6, 2, 7, 4, 2, 4, 5, 6, 2, 5, 0, 3, 1, 2, 6, 2, 6, 2, 0, 3, 1, 5, 1, 3, 5, 7, 4, 1, 2, 0, 4, 0, 4, 2, 0, 2, 6, 2, 6, 2, 4, 6, 2, 3, 0, 4, 5, 2, 0, 6, 2, 3, 7, 2, 6, 2, 7, 3, 1, 6, 2, 5, 7, 2, 7, 4, 5, 2, 5, 2, 5, 7, 0, 5, 6, 2, 4, 1, 2, 7, 4, 1, 6, 2, 0, 4, 5, 1, 5, 3, 5, 2, 7, 2, 4, 0, 2, 3, 0, 1, 7, 2, 5, 6, 2, 7, 4, 6, 2, 3, 1, 6, 2, 7, 4, 5, 6, 2, 5, 2, 4, 1, 2, 4, 0, 4, 1, 6, 2, 4, 1, 4, 7, 4, 0, 6, 2, 6, 2, 5, 3, 1, 5, 1, 5, 0, 1, 5, 3, 1, 4, 1, 3, 0, 4, 7, 2, 0, 6, 2, 0, 1, 4, 6, 2, 5, 0, 2, 4, 6, 2, 6, 2, 0, 3, 7, 2, 4, 1, 4, 1, 6, 2, 3, 4, 0, 4, 5, 2, 7, 1, 6, 2, 3, 1, 3, 5, 3, 1, 6, 2, 0, 6, 2, 4, 7, 0, 3, 7, 5, 3, 7, 0, 3, 6, 2, 4, 6, 2, 0, 3, 6, 2, 7, 1, 5, 2, 7, 4, 7, 3, 1, 7, 2, 3, 0, 6, 2, 0, 3, 1, 6, 2, 5, 0, 2, 6, 2, 7, 2, 0, 5, 1, 7, 1, 2, 7, 0, 3, 5, 3, 5, 1, 4, 5, 6, 2, 7, 4, 2, 5, 0, 1, 7, 3, 0, 6, 2, 3, 0, 6, 2, 7, 3, 1, 2, 6, 2, 5, 6, 2, 6, 2, 7, 2, 0, 5, 2, 3, 5, 6, 2, 0, 1, 3, 5, 1, 7, 5, 7, 0, 1, 2, 3, 4, 0, 5, 2, 4, 7, 0, 6, 2, 4, 0, 6, 2, 6, 2, 3, 6, 2, 3, 6, 2, 7, 2, 3, 1, 2, 4, 0, 4, 5, 6, 2, 6, 2, 7, 5, 2, 5, 7, 4, 7, 0, 4, 0, 1, 5, 1, 4, 5, 2, 0, 5, 1, 6, 2, 3, 6, 2, 7, 3, 1, 5, 7, 4, 5, 3, 1, 3, 7, 2, 3, 6, 2, 6, 2, 6, 2, 7, 5, 7, 5, 3, 5, 3, 4, 2, 7, 1, 3, 7, 3, 6, 2, 4, 1, 5, 2, 6, 2, 7, 5, 1, 7, 1, 4, 1, 3, 1, 5, 7, 1, 5, 2, 3, 7, 1, 4, 7, 3, 6, 2, 7, 3, 4, 7, 5, 2, 7, 3, 6, 2, 6, 2, 5, 3, 5, 6, 2, 6, 2, 5, 2, 7, 4, 2, 3, 5, 0, 3, 1, 7, 0, 4, 1, 6, 2, 5, 1, 7, 2, 0, 1, 5, 3, 5, 2, 7, 1, 5, 7, 5, 0, 1, 7, 5, 6, 2, 3, 0, 4, 2, 4, 0, 4, 2, 7, 1, 7, 1, 6, 2, 7, 0, 4, 1, 6, 2, 0, 6, 2, 7, 4, 2, 3, 5, 7, 5, 3, 0, 1, 5, 7, 5, 3, 5, 7, 3, 6, 2, 7, 5, 1, 2, 7, 4, 0, 6, 2, 0, 2, 7, 1, 5, 2, 5, 6, 2, 6, 2, 0, 3, 0, 4, 5, 6, 2, 7, 0, 1, 5, 6, 2, 4, 0, 3, 4, 2, 5, 3, 6, 2, 6, 2, 0, 2, 0, 5, 1, 5, 2, 7, 2, 5, 6, 2, 6, 2, 3, 6, 2, 7, 0, 5, 7, 3, 5, 2, 5, 0, 3, 5, 6, 2, 7, 1, 3, 1, 6, 2, 4, 5, 2, 4, 7, 1, 4, 0, 6, 2, 5, 7, 1, 6, 2, 0, 4, 6, 2, 4, 2, 4, 5, 7, 4, 0, 2, 3, 7, 4, 0, 6, 2, 6, 2, 0, 6, 2, 3, 4, 0, 2, 7, 5, 6, 2, 0, 6, 2, 5, 0, 5, 1, 2, 7, 0, 1, 3, 1, 4, 1, 4, 0, 4, 5, 6, 2, 4, 6, 2, 3, 1, 6, 2, 0, 2, 4, 2, 0, 4, 7, 0, 3, 4, 0, 3, 0, 6, 2, 3, 6, 2, 3, 0, 5, 7, 5, 7, 4, 7, 2, 5, 1, 6, 2, 7, 5, 0, 4, 7, 1, 6, 2, 5, 7, 4, 6, 2, 5, 7, 0, 3, 4, 5, 6, 2, 0, 3, 1, 5, 2, 5, 0, 1, 2, 4, 6, 2, 3, 1, 6, 2, 7, 0, 1, 4, 6, 2, 5, 1, 4, 5, 6, 2, 3, 7, 0, 3, 7, 1, 3, 4, 2, 5, 2, 6, 2, 0, 2, 3, 1, 7, 5, 3, 4, 2, 3, 6, 2, 7, 0, 2, 0, 6, 2, 3, 5, 1, 2, 0, 5, 6, 2, 5, 1, 3, 0, 5, 6, 2, 7, 3, 5, 0, 3, 5, 2, 6, 2, 3, 1, 5, 7, 3, 1, 4, 0, 5, 0, 4, 2, 4, 2, 7, 4, 7, 2, 6, 2, 4, 7, 4, 7, 1, 6, 2, 0, 5, 3, 5, 3, 7, 2, 5, 3, 4, 7, 3, 5, 0, 6, 2, 5, 2, 0, 6, 2, 7, 3, 1, 3, 6, 2, 6, 2, 3, 7, 2, 6, 2, 3, 7, 4, 6, 2, 0, 4, 6, 2, 6, 2, 3, 4, 0, 2, 4, 7, 4, 1, 5, 2, 5, 1, 3, 1, 4, 0, 3, 7, 3, 7, 5, 1, 4, 2, 0, 4, 5, 2, 3, 4, 5, 2, 7, 5, 3, 5, 6, 2, 4, 2, 4, 0, 1, 7, 1, 6, 2, 6, 2, 6, 2, 0, 3, 5, 7, 0, 6, 2, 0, 1, 2, 4, 1, 2, 4, 2, 7, 1, 5, 6, 2, 5, 3, 0, 1, 2, 3, 0, 6, 2, 7, 5, 1, 2, 3, 1, 6, 2, 4, 6, 2, 4, 7, 4, 0, 4, 6, 2, 7, 4, 0, 5, 2, 0, 2, 5, 6, 2, 7, 2, 3, 1, 5, 0, 1, 3, 0, 1, 2, 4, 2, 5, 3, 5, 1, 4, 0, 2, 5, 0, 2, 3, 5, 0, 4, 0, 6, 2, 6, 2, 7, 1, 5, 1, 7, 3, 1, 2, 5, 0, 4, 6, 2, 4, 1, 3, 1, 4, 7, 5, 2, 0, 4, 1, 2, 5, 7, 5, 3, 4, 5, 0, 6, 2, 4, 5, 6, 2, 5, 2, 0, 5, 3, 7, 4, 5, 0, 3, 0, 2, 7, 4, 5, 0, 6, 2, 4, 5, 1, 3, 1, 6, 2, 3, 0, 1, 2, 6, 2, 0, 2, 4, 5, 2, 7, 3, 7, 3, 0, 4, 1, 6, 2, 5, 3, 6, 2, 0, 4, 1, 5, 6, 2, 6, 2, 3, 4, 0, 4, 2, 5, 6, 2, 3, 5, 6, 2, 3, 6, 2, 7, 0, 4, 7, 4, 6, 2, 5, 7, 3, 4, 5, 3, 4, 1, 3, 5, 1, 3, 7, 4, 1, 2, 7, 0, 6, 2, 3, 4, 0, 3, 6, 2, 3, 4, 7, 1, 5, 1, 7, 5, 3, 4, 7, 2, 4, 0, 3, 0, 1, 6, 2, 5, 7, 2, 0, 4, 6, 2, 0, 2, 0, 1, 4, 2, 6, 2, 3, 6, 2, 7, 4, 5, 6, 2, 0, 5, 3, 4, 2, 6, 2, 0, 1, 5, 0, 4, 7, 0, 4, 5, 3, 0, 4, 1, 5, 1, 4, 0, 4, 0, 4, 5, 7, 3, 1, 3, 0, 3, 1, 7, 1, 4, 5, 1, 5, 3, 5, 1, 7, 3, 7, 2, 7, 1, 6, 2, 6, 2, 5, 1, 4, 5, 7, 2, 5, 2, 0, 6, 2, 0, 2, 3, 7, 0, 6, 2, 5, 3, 7, 5, 7, 5, 3, 4, 1, 7, 3, 7, 0, 4, 5, 6, 2, 5, 1, 3, 4, 6, 2, 4, 6, 2, 4, 1, 6, 2, 5, 2, 0, 4, 5, 6, 2, 0, 5, 1, 2, 3, 4, 0, 4, 1, 4, 2, 4, 2, 6, 2, 6, 2, 3, 0, 4, 1, 2, 7, 0, 4, 7, 4, 1, 6, 2, 3, 6, 2, 0, 5, 0, 2, 5, 2, 6, 2, 4, 6, 2, 3, 1, 5, 2, 0, 1, 6, 2, 4, 7, 4, 5, 7, 3, 4, 1, 5, 1, 5, 0, 2, 4, 6, 2, 4, 5, 3, 1, 5, 3, 0, 2, 5, 0, 5, 0, 1, 5, 2, 6, 2, 4, 7, 4, 1, 2, 4, 0, 4, 6, 2, 0, 3, 1, 4, 0, 1, 2, 3, 5, 7, 2, 0, 4, 6, 2, 5, 0, 1, 2, 6, 2, 3, 7, 4, 1, 3, 5, 2, 4, 7, 3, 5, 1, 4, 5, 0, 6, 2, 4, 1, 5, 0, 3, 6, 2, 3, 1, 3, 7, 4, 1, 5, 1, 7, 1, 6, 2, 4, 7, 1, 4, 0, 5, 2, 6, 2, 4, 2, 7, 0, 4, 6, 2, 6, 2, 3, 5, 0, 2, 6, 2, 7, 4, 0, 4, 2, 5, 6, 2, 0, 2, 5, 3, 1, 6, 2, 5, 3, 4, 6, 2, 4, 7, 0, 6, 2, 6, 2, 3, 0, 4, 2, 5, 1, 6, 2, 5, 3, 5, 0, 4, 0, 1, 2, 3, 6, 2, 6, 2, 4, 5, 6, 2, 0, 2, 7, 4, 2, 7, 3, 6, 2, 5, 1, 5, 3, 4, 5, 2, 7, 5, 6, 2, 7, 2, 4, 1, 5, 1, 4, 7, 1, 6, 2, 3, 6, 2, 3, 5, 0, 6, 2, 3, 4, 5, 6, 2, 3, 6, 2, 3, 6, 2, 7, 2, 0, 3, 1, 5, 2, 6, 2, 5, 6, 2, 4, 6, 2, 3, 1, 4, 6, 2, 5, 6, 2, 3, 4, 1, 3, 0, 6, 2, 5, 2, 6, 2, 6, 2, 6, 2, 6, 2, 3, 6, 2, 6, 2, 0, 4, 6, 2, 4, 1, 2, 3, 4, 6, 2, 5, 3, 4, 1, 7, 2, 3, 6, 2, 0, 4, 1, 3, 1, 3, 0, 2, 0, 2, 6, 2, 3, 0, 1, 2, 0, 6, 2, 6, 2, 5, 3, 7, 2, 5, 1, 2, 5, 0, 5, 3, 0, 3, 4, 5, 7, 1, 7, 1, 4, 5, 6, 2, 5, 0, 6, 2, 6, 2, 5, 0, 1, 7, 3, 4, 1, 5, 0, 3, 6, 2, 7, 4, 0, 4, 5, 1, 4, 1, 2, 7, 5, 1, 6, 2, 0, 3, 7, 3, 0, 3, 6, 2, 5, 3, 5, 1, 3, 5, 2, 0, 4, 5, 0, 6, 2, 3, 0, 1, 4, 2, 4, 0, 5, 3, 4, 0, 6, 2, 4, 5, 0, 5, 3, 0, 3, 4, 6, 2, 0, 3, 4, 7, 0, 1, 3, 0, 2, 7, 2, 7, 4, 1, 3, 5, 6, 2, 7, 1, 7, 5, 0, 1, 4, 5, 2, 0, 2, 7, 4, 6, 2, 7, 4, 5, 7, 5, 6, 2, 3, 7, 5, 1, 2, 0, 1, 7, 1, 4, 2, 0, 5, 7, 3, 5, 3, 5, 2, 3, 1, 3, 1, 4, 6, 2, 3, 4, 6, 2, 3, 4, 6, 2, 6, 2, 5, 2, 4, 1, 6, 2, 7, 2, 4, 1, 4, 5, 6, 2, 7, 2, 6, 2, 3, 0, 6, 2, 3, 5, 6, 2, 7, 3, 1, 6, 2, 0, 6, 2, 5, 6, 2, 7, 1, 3, 5, 0, 2, 4, 5, 3, 5, 7, 0, 1, 7, 0, 4, 7, 0, 5, 7, 1, 7, 5, 6, 2, 4, 2, 7, 5, 7, 0, 2, 5, 6, 2, 7, 1, 3, 7, 1, 2, 5, 0, 3, 6, 2, 3, 0, 5, 3, 4, 1, 4, 1, 3, 4, 2, 4, 2, 4, 0, 6, 2, 4, 2, 7, 5, 0, 4, 7, 3, 5, 1, 7, 5, 2, 0, 2, 3, 4, 0, 3, 7, 2, 0, 1, 3, 4, 0, 3, 7, 5, 0, 6, 2, 4, 6, 2, 7, 0, 4, 7, 5, 0, 6, 2, 0, 4, 1, 7, 1, 4, 7, 2, 7, 4, 7, 4, 5, 2, 0, 6, 2, 4, 5, 3, 5, 6, 2, 7, 5, 7, 5, 3, 4, 1, 5, 2, 6, 2, 6, 2, 5, 2, 4, 6, 2, 3, 7, 5, 6, 2, 3, 4, 5, 1, 7, 2, 3, 5, 2, 5, 0, 3, 0, 5, 1, 7, 2, 6, 2, 7, 0, 4, 2, 6, 2, 4, 2, 7, 0, 4, 6, 2, 7, 4, 5, 3, 1, 4, 5, 0, 3, 0, 4, 5, 7, 2, 7, 4, 0, 6, 2, 5, 2, 7, 3, 1, 4, 0, 6, 2, 7, 2, 4, 6, 2, 0, 6, 2, 5, 7, 1, 2, 6, 2, 5, 6, 2, 5, 2, 0, 3, 7, 2, 7, 4, 5, 3, 6, 2, 3, 6, 2, 4, 5, 6, 2, 4, 0, 3, 7, 5, 0, 4, 1, 6, 2, 7, 0, 3, 1, 3, 6, 2, 3, 0, 6, 2, 6, 2, 7, 0, 6, 2, 5, 1, 5, 0, 2, 4, 6, 2, 4, 7, 0, 5, 2, 3, 6, 2, 4, 0, 1, 5, 3, 4, 6, 2, 7, 5, 7, 3, 1, 3, 5, 0, 6, 2, 7, 1, 3, 4, 5, 0, 4, 5, 3, 0, 4, 1, 7, 3, 4, 0, 6, 2, 5, 1, 5, 1, 4, 1, 5, 3, 4, 0, 5, 2, 6, 2, 7, 3, 6, 2, 7, 1, 6, 2, 7, 4, 7, 1, 4, 6, 2, 4, 7, 0, 4, 2, 3, 1, 6, 2, 4, 7, 2, 7, 4, 5, 0, 6, 2, 5, 6, 2, 4, 1, 2, 4, 2, 7, 0, 1, 6, 2, 6, 2, 0, 2, 7, 1, 5, 7, 2, 5, 0, 6, 2, 6, 2, 5, 1, 3, 6, 2, 5, 6, 2, 6, 2, 7, 1, 7, 4, 0, 4, 0, 3, 7, 5, 1, 4, 5, 6, 2, 5, 2, 6, 2, 5, 6, 2, 6, 2, 5, 2, 5, 3, 4, 0, 5, 0, 2, 3, 5, 7, 2, 0, 6, 2, 3, 4, 5, 2, 4, 2, 3, 6, 2, 3, 4, 7, 0, 5, 7, 4, 2, 4, 6, 2, 4, 6, 2, 6, 2, 6, 2, 5, 7, 1, 6, 2, 5, 3, 7, 3, 5, 6, 2, 5, 3, 7, 3, 0, 5, 2, 0, 4, 7, 2, 6, 2, 5, 7, 1, 7, 5, 6, 2, 0, 4, 2, 6, 2, 7, 5, 2, 6, 2, 6, 2, 0, 1, 2, 3, 0, 5, 0, 3, 4, 7, 0, 2, 5, 2, 7, 4, 2, 5, 6, 2, 0, 5, 2, 3, 6, 2, 3, 5, 0, 2, 6, 2, 6, 2, 4, 2, 6, 2, 3, 1, 5, 2, 0, 2, 7, 5, 6, 2, 5, 3, 6, 2, 5, 7, 3, 1, 6, 2, 6, 2, 5, 7, 3, 5, 3, 0, 1, 3, 6, 2, 5, 1, 3, 6, 2, 7, 3, 4, 0, 6, 2, 0, 1, 3, 1, 4, 7, 2, 3, 6, 2, 3, 6, 2, 4, 1, 3, 4, 7, 3, 7, 3, 4, 0, 5, 6, 2, 0, 6, 2, 0, 4, 6, 2, 5, 6, 2, 4, 2, 0, 4, 0, 5, 7, 4, 6, 2, 0, 6, 2, 3, 5, 1, 3, 5, 2, 4, 2, 4, 2, 4, 1, 2, 5, 1, 5, 1, 6, 2, 4, 1, 6, 2, 7, 3, 7, 1, 2, 3, 7, 0, 4, 0, 3, 5, 0, 4, 0, 2, 7, 2, 5, 3, 1, 7, 4, 1, 6, 2, 7, 5, 7, 4, 5, 1, 4, 5, 3, 6, 2, 7, 5, 3, 0, 2, 5, 1, 6, 2, 4, 2, 6, 2, 5, 6, 2, 4, 7, 1, 2, 6, 2, 5, 6, 2, 5, 0, 4, 0, 5, 2, 0, 2, 0, 4, 5, 3, 0, 6, 2, 0, 1, 3, 6, 2, 5, 6, 2, 7, 0, 3, 6, 2, 0, 3, 5, 0, 2, 3, 6, 2, 6, 2, 0, 3, 1, 3, 0, 5, 7, 3, 4, 0, 4, 1, 4, 1, 6, 2, 7, 5, 3, 7, 5, 3, 7, 5, 7, 3, 6, 2, 4, 0, 1, 2, 7, 4, 2, 5, 2, 0, 6, 2, 6, 2, 6, 2, 3, 5, 6, 2, 3, 0, 5, 7, 5, 6, 2, 6, 2, 6, 2, 5, 1, 6, 2, 7, 1, 6, 2, 7, 2, 5, 6, 2, 4, 5, 1, 3, 6, 2, 7, 1, 3, 7, 1, 6, 2, 7, 0, 3, 4, 7, 3, 4, 5, 0, 4, 1, 3, 1, 6, 2, 5, 0, 1, 6, 2, 0, 4, 5, 0, 4, 0, 1, 3, 1, 5, 2, 4, 0, 5, 3, 7, 0, 6, 2, 0, 3, 1, 4, 0, 5, 3, 4, 0, 1, 2, 3, 0, 4, 0, 5, 2, 7, 2, 7, 3, 0, 6, 2, 4, 6, 2, 3, 1, 5, 6, 2, 0, 2, 7, 2, 6, 2, 4, 0, 3, 4, 7, 5, 2, 4, 2, 4, 2, 3, 6, 2, 5, 3, 6, 2, 5, 2, 5, 6, 2, 3, 5, 6, 2, 0, 6, 2, 3, 1, 6, 2, 4, 2, 3, 6, 2, 0, 1, 6, 2, 0, 6, 2, 3, 0, 6, 2, 5, 3, 1, 2, 6, 2, 6, 2, 5, 1, 2, 5, 1, 7, 3, 4, 1, 6, 2, 6, 2, 4, 2, 4, 1, 4, 1, 7, 2, 0, 6, 2, 5, 1, 7, 1, 5, 7, 4, 2, 3, 5, 2, 5, 7, 4, 6, 2, 4, 2, 4, 0, 6, 2, 7, 5, 0, 5, 7, 1, 3, 7, 4, 5, 0, 1, 4, 6, 2, 6, 2, 7, 3, 1, 7, 5, 6, 2, 7, 0, 6, 2, 3, 1, 2, 3, 0, 3, 6, 2, 4, 2, 6, 2, 7, 2, 7, 2, 3, 1, 4, 5, 1, 5, 6, 2, 4, 6, 2, 0, 1, 7, 3, 7, 4, 6, 2, 4, 7, 3, 7, 3, 7, 4, 0, 5, 0, 2, 4, 2, 3, 0, 3, 5, 7, 3, 1, 5, 3, 1, 7, 0, 2, 5, 2, 0, 1, 5, 1, 6, 2, 4, 2, 3, 6, 2, 7, 2, 7, 0, 6, 2, 7, 2, 4, 0, 2, 6, 2, 3, 0, 6, 2, 0, 2, 6, 2, 4, 2, 3, 4, 0, 3, 0, 2, 0, 2, 3, 7, 3, 1, 6, 2, 0, 6, 2, 5, 2, 7, 1, 2, 6, 2, 0, 4, 0, 1, 4, 1, 5, 6, 2, 4, 2, 6, 2, 5, 6, 2, 5, 2, 5, 2, 6, 2, 0, 4, 1, 7, 1, 6, 2, 6, 2, 4, 5, 0, 2, 6, 2, 4, 1, 6, 2, 0, 4, 7, 2, 5, 3, 1, 3, 7, 2, 7, 5, 0, 3, 4, 1, 7, 1, 6, 2, 6, 2, 7, 3, 7, 2, 7, 5, 3, 5, 7, 3, 1, 4, 6, 2, 3, 5, 7, 0, 4, 1, 4, 6, 2, 6, 2, 0, 2, 0, 4, 5, 0, 2, 5, 6, 2, 5, 2, 3, 7, 0, 6, 2, 3, 1, 7, 5, 0, 6, 2, 7, 5, 6, 2, 6, 2, 4, 1, 4, 1, 2, 3, 5, 0, 4, 1, 7, 3, 4, 2, 0, 3, 1, 7, 0, 6, 2, 6, 2, 6, 2, 7, 0, 4, 7, 0, 5, 7, 4, 6, 2, 5, 6, 2, 7, 0, 6, 2, 3, 6, 2, 7, 1, 3, 7, 3, 1, 2, 6, 2, 6, 2, 7, 4, 1, 3, 0, 5, 1, 3, 6, 2, 7, 3, 0, 1, 5, 0, 1, 4, 1, 6, 2, 6, 2, 6, 2, 6, 2, 7, 5, 2, 5, 0, 6, 2, 4, 6, 2, 3, 0, 3, 1, 4, 5, 7, 0, 4, 0, 2, 4, 5, 0, 6, 2, 0, 4, 5, 3, 6, 2, 6, 2, 7, 1, 2, 5, 0, 4, 0, 1, 4, 2, 4, 0, 2, 7, 4, 7, 4, 6, 2, 6, 2, 0, 4, 5, 7, 1, 3, 7, 0, 5, 7, 1, 2, 6, 2, 4, 0, 3, 5, 7, 0, 6, 2, 4, 6, 2, 0, 4, 6, 2, 0, 3, 7, 4, 6, 2, 5, 2, 0, 1, 3, 1, 7, 2, 0, 1, 2, 5, 2, 6, 2, 4, 7, 2, 0, 4, 0, 1, 7, 2, 7, 2, 4, 0, 2, 4, 0, 6, 2, 7, 3, 7, 5, 2, 0, 2, 6, 2, 6, 2, 4, 2, 7, 0, 2, 3, 5, 2, 5, 3, 4, 1, 7, 3, 1, 5, 3, 4, 0, 5, 0, 1, 5, 0, 3, 1, 4, 2, 6, 2, 5, 7, 5, 3, 1, 5, 3, 0, 4, 6, 2, 5, 2, 5, 2, 5, 6, 2, 3, 7, 4, 7, 0, 4, 5, 1, 6, 2, 3, 7, 5, 3, 4, 0, 2, 6, 2, 4, 0, 6, 2, 0, 4, 5, 2, 0, 5, 1, 6, 2, 5, 3, 1, 4, 0, 1, 5, 6, 2, 3, 0, 5, 6, 2, 7, 3, 5, 7, 5, 1, 6, 2, 6, 2, 5, 0, 3, 1, 4, 5, 6, 2, 3, 5, 2, 3, 6, 2, 6, 2, 3, 7, 1, 7, 3, 5, 6, 2, 4, 5, 7, 1, 7, 5, 1, 3, 1, 4, 2, 0, 6, 2, 4, 5, 3, 5, 1, 2, 7, 3, 0, 1, 2, 7, 2, 5, 1, 5, 1, 5, 7, 4, 2, 3, 7, 2, 6, 2, 3, 0, 1, 6, 2, 4, 1, 2, 3, 0, 3, 4, 1, 3, 4, 1, 4, 0, 4, 1, 3, 7, 5, 7, 2, 7, 2, 6, 2, 7, 0, 4, 1, 5, 2, 4, 7, 4, 6, 2, 3, 1, 7, 0, 5, 3, 0, 2, 4, 0, 6, 2, 0, 6, 2, 4, 6, 2, 3, 6, 2, 0, 4, 0, 6, 2, 7, 1, 7, 0, 5, 1, 6, 2, 0, 4, 5, 1, 3, 0, 6, 2, 3, 0, 6, 2, 0, 6, 2, 0, 2, 5, 3, 6, 2, 0, 3, 1, 6, 2, 4, 7, 5, 2, 4, 0, 6, 2, 0, 3, 0, 2, 3, 0, 4, 5, 2, 6, 2, 4, 2, 5, 6, 2, 4, 2, 7, 3, 6, 2, 5, 6, 2, 4, 0, 3, 1, 5, 7, 3, 4, 5, 3, 0, 3, 7, 5, 3, 4, 5, 1, 2, 4, 7, 0, 4, 5, 2, 6, 2, 3, 5, 7, 2, 6, 2, 5, 6, 2, 4, 1, 7, 0, 4, 2, 7, 0, 1, 6, 2, 3, 7, 2, 0, 2, 4, 7, 3, 0, 6, 2, 6, 2, 6, 2, 7, 0, 2, 7, 5, 2, 0, 6, 2, 5, 2, 4, 0, 5, 2, 3, 1, 5, 1, 7, 3, 6, 2, 7, 3, 1, 7, 1, 7, 2, 6, 2, 5, 2, 7, 2, 4, 5, 7, 3, 5, 0, 2, 4, 1, 4, 5, 7, 5, 2, 3, 5, 1, 3, 7, 5, 7, 1, 7, 3, 7, 2, 4, 0, 2, 0, 3, 4, 1, 3, 7, 2, 0, 6, 2, 4, 7, 2, 6, 2, 4, 6, 2, 5, 7, 5, 1, 4, 5, 1, 6, 2, 5, 2, 4, 7, 2, 7, 2, 5, 1, 2, 4, 0, 2, 3, 7, 3, 5, 7, 1, 4, 2, 3, 7, 2, 0, 5, 1, 4, 7, 5, 1, 2, 3, 0, 6, 2, 6, 2, 3, 1, 6, 2, 4, 6, 2, 7, 0, 6, 2, 7, 0, 4, 5, 3, 0, 1, 6, 2, 0, 5, 0, 4, 1, 3, 7, 3, 0, 3, 6, 2, 3, 7, 5, 2, 3, 5, 1, 6, 2, 0, 6, 2, 7, 0, 2, 6, 2, 4, 1, 3, 7, 0, 3, 0, 6, 2, 3, 6, 2, 3, 4, 1, 5, 1, 7, 1, 6, 2, 0, 6, 2, 0, 4, 7, 5, 7, 2, 7, 5, 3, 4, 1, 3, 5, 0, 1, 5, 3, 7, 1, 7, 0, 6, 2, 6, 2, 3, 0, 2, 3, 7, 0, 6, 2, 4, 0, 3, 7, 0, 6, 2, 5, 2, 4, 7, 4, 0, 5, 2, 5, 7, 3, 6, 2, 0, 2, 3, 7, 4, 6, 2, 3, 4, 5, 3, 5, 6, 2, 4, 0, 5, 6, 2, 0, 5, 0, 5, 2, 4, 6, 2, 4, 2, 7, 3, 5, 6, 2, 6, 2, 3, 1, 3, 5, 1, 4, 6, 2, 0, 4, 2, 7, 5, 3, 7, 3, 0, 4, 7, 2, 6, 2, 6, 2, 3, 4, 0, 1, 2, 3, 7, 2, 5, 1, 7, 3, 0, 3, 6, 2, 3, 7, 5, 0, 5, 7, 1, 4, 5, 1, 2, 7, 2, 0, 6, 2, 0, 4, 0, 6, 2, 4, 1, 7, 1, 7, 3, 6, 2, 5, 2, 5, 7, 1, 6, 2, 6, 2, 7, 5, 1, 2, 0, 6, 2, 6, 2, 6, 2, 7, 5, 6, 2, 7, 1, 4, 7, 3, 6, 2, 5, 6, 2, 5, 3, 1, 5, 3, 6, 2, 0, 1, 2, 4, 0, 4, 0, 4, 7, 5, 0, 4, 7, 2, 0, 6, 2, 3, 7, 0, 6, 2, 5, 2, 4, 7, 5, 6, 2, 6, 2, 6, 2, 3, 1, 2, 0, 2, 6, 2, 0, 3, 6, 2, 6, 2, 6, 2, 7, 3, 7, 5, 2, 6, 2, 5, 3, 1, 3, 6, 2, 3, 6, 2, 5, 6, 2, 7, 4, 5, 7, 2, 5, 7, 2, 0, 6, 2, 4, 0, 5, 2, 0, 5, 0, 1, 4, 1, 4, 2, 0, 5, 2, 7, 1, 2, 5, 3, 4, 5, 6, 2, 0, 5, 0, 4, 2, 6, 2, 0, 6, 2, 5, 2, 3, 7, 0, 5, 7, 4, 0, 3, 0, 2, 7, 1, 3, 4, 2, 0, 3, 6, 2, 3, 5, 3, 1, 7, 4, 7, 1, 6, 2, 6, 2, 5, 3, 7, 3, 4, 0, 6, 2, 4, 0, 2, 6, 2, 3, 6, 2, 0, 5, 6, 2, 7, 3, 6, 2, 6, 2, 7, 1, 2, 3, 5, 6, 2, 3, 7, 5, 3, 5, 2, 5, 3, 5, 3, 4, 2, 5, 6, 2, 3, 1, 4, 6, 2, 3, 6, 2, 5, 2, 6, 2, 0, 6, 2, 5, 0, 3, 4, 2, 4, 2, 0, 2, 3, 0, 1, 4, 2, 6, 2, 0, 1, 5, 2, 7, 0, 5, 6, 2, 5, 2, 0, 6, 2, 5, 7, 3, 5, 2, 5, 7, 2, 4, 6, 2, 0, 5, 2, 4, 5, 6, 2, 4, 1, 6, 2, 7, 3, 4, 6, 2, 0, 6, 2, 5, 1, 5, 0, 5, 1, 5, 2, 3, 1, 3, 5, 0, 2, 3, 7, 2, 3, 7, 4, 0, 4, 5, 3, 7, 3, 6, 2, 4, 0, 2, 4, 6, 2, 0, 4, 5, 1, 3, 7, 2, 4, 2, 6, 2, 6, 2, 0, 1, 6, 2, 0, 1, 4, 7, 3, 5, 7, 2, 5, 1, 6, 2, 6, 2, 5, 0, 3, 5, 6, 2, 0, 2, 3, 0, 6, 2, 0, 3, 1, 2, 5, 1, 4, 0, 4, 0, 3, 5, 1, 3, 1, 4, 0, 3, 0, 3, 5, 7, 2, 7, 2, 5, 0, 3, 5, 0, 2, 5, 2, 6, 2, 7, 0, 1, 2, 3, 7, 1, 7, 5, 1, 7, 2, 5, 2, 0, 3, 4, 0, 5, 2, 0, 5, 0, 3, 4, 6, 2, 0, 4, 6, 2, 4, 2, 0, 2, 7, 4, 6, 2, 5, 1, 6, 2, 7, 3, 0, 4, 7, 3, 7, 0, 1, 7, 2, 6, 2, 0, 2, 7, 2, 4, 2, 0, 3, 1, 6, 2, 5, 1, 2, 6, 2, 4, 5, 1, 4, 7, 2, 6, 2, 3, 5, 0, 4, 0, 6, 2, 0, 2, 6, 2, 3, 4, 5, 1, 5, 1, 5, 7, 5, 6, 2, 0, 5, 6, 2, 7, 5, 0, 5, 2, 3, 1, 4, 1, 5, 6, 2, 7, 1, 7, 4, 2, 4, 7, 5, 2, 5, 1, 5, 3, 5, 6, 2, 3, 1, 2, 0, 2, 0, 5, 2, 4, 0, 6, 2, 6, 2, 7, 1, 6, 2, 6, 2, 5, 6, 2, 4, 7, 2, 5, 3, 5, 1, 4, 6, 2, 5, 7, 1, 7, 3, 0, 5, 1, 7, 1, 6, 2, 0, 5, 0, 5, 0, 4, 7, 1, 6, 2, 6, 2, 5, 3, 0, 5, 1, 6, 2, 4, 7, 3, 6, 2, 5, 7, 5, 7, 4, 0, 5, 6, 2, 0, 2, 0, 1, 7, 3, 4, 0, 5, 1, 2, 7, 1, 4, 6, 2, 5, 3, 6, 2, 4, 2, 3, 1, 7, 4, 5, 0, 3, 5, 7, 2, 3, 1, 4, 7, 0, 2, 3, 4, 7, 4, 0, 6, 2, 0, 4, 7, 2, 7, 2, 3, 0, 4, 5, 2, 6, 2, 5, 0, 5, 3, 4, 1, 7, 4, 0, 4, 7, 0, 2, 5, 3, 4, 7, 4, 5, 1, 5, 7, 2, 5, 0, 1, 6, 2, 7, 1, 3, 0, 1, 4, 6, 2, 4, 0, 2, 0, 3, 1, 6, 2, 6, 2, 4, 2, 0, 3, 1, 2, 4, 7, 5, 3, 7, 0, 3, 5, 7, 3, 0, 3, 4, 7, 5, 3, 6, 2, 3, 0, 6, 2, 4, 6, 2, 6, 2, 0, 4, 7, 3, 5, 1, 5, 6, 2, 3, 5, 6, 2, 0, 6, 2, 4, 1, 3, 0, 5, 3, 4, 1, 2, 0, 2, 6, 2, 7, 1, 5, 6, 2, 3, 1, 6, 2, 3, 7, 5, 7, 2, 6, 2, 0, 4, 1, 3, 4, 0, 6, 2, 0, 4, 7, 1, 3, 0, 2, 5, 6, 2, 3, 5, 0, 2, 0, 6, 2, 4, 5, 7, 4, 2, 5, 6, 2, 3, 5, 7, 0, 4, 6, 2, 0, 1, 4, 5, 6, 2, 3, 5, 6, 2, 6, 2, 6, 2, 3, 6, 2, 4, 0, 4, 1, 3, 6, 2, 3, 0, 6, 2, 0, 2, 6, 2, 0, 4, 7, 3, 4, 6, 2, 4, 2, 0, 3, 7, 4, 0, 3, 4, 1, 7, 5, 6, 2, 5, 3, 7, 3, 6, 2, 5, 0, 4, 5, 6, 2, 3, 0, 5, 0, 2, 5, 0, 1, 2, 3, 6, 2, 0, 5, 7, 0, 4, 6, 2, 7, 1, 5, 7, 1, 7, 5, 2, 0, 3, 0, 1, 7, 0, 3, 0, 3, 0, 4, 0, 4, 7, 2, 4, 7, 4, 6, 2, 5, 0, 6, 2, 5, 1, 6, 2, 0, 4, 5, 2, 0, 6, 2, 3, 0, 2, 4, 1, 5, 2, 6, 2, 0, 3, 0, 2, 7, 5, 2, 5, 7, 0, 5, 7, 1, 5, 6, 2, 0, 2, 5, 7, 2, 5, 6, 2, 4, 5, 1, 4, 6, 2, 4, 1, 5, 3, 5, 7, 0, 2, 5, 3, 5, 1, 4, 5, 0, 6, 2, 7, 2, 4, 6, 2, 3, 0, 3, 6, 2, 0, 2, 0, 3, 4, 2, 3, 5, 1, 5, 2, 6, 2, 7, 5, 3, 5, 7, 2, 4, 6, 2, 0, 6, 2, 0, 3, 1, 7, 4, 2, 6, 2, 4, 7, 3, 6, 2, 0, 6, 2, 5, 1, 3, 4, 1, 4, 7, 0, 1, 4, 0, 1, 5, 7, 3, 7, 0, 1, 4, 7, 1, 2, 6, 2, 4, 5, 6, 2, 3, 5, 6, 2, 3, 0, 1, 2, 5, 3, 6, 2, 6, 2, 5, 1, 5, 1, 7, 1, 7, 4, 2, 7, 1, 7, 4, 0, 5, 3, 7, 3, 4, 7, 2, 4, 0, 2, 6, 2, 6, 2, 0, 4, 0, 3, 6, 2, 7, 1, 6, 2, 6, 2, 0, 2, 4, 2, 6, 2, 3, 7, 5, 3, 6, 2, 0, 5, 1, 3, 1, 4, 0, 6, 2, 5, 0, 6, 2, 4, 2, 3, 6, 2, 5, 0, 3, 5, 3, 4, 2, 5, 3, 5, 6, 2, 5, 7, 2, 3, 1, 6, 2, 7, 4, 6, 2, 4, 0, 4, 2, 7, 5, 7, 2, 5, 7, 2, 0, 2, 6, 2, 0, 4, 2, 0, 6, 2, 0, 4, 1, 7, 1, 2, 7, 0, 1, 4, 1, 3, 4, 1, 7, 1, 4, 5, 2, 7, 4, 7, 1, 3, 0, 5, 7, 3, 1, 4, 6, 2, 7, 1, 7, 5, 3, 1, 3, 0, 1, 3, 4, 0, 2, 7, 4, 2, 4, 5, 0, 2, 0, 3, 7, 0, 5, 7, 1, 2, 5, 0, 5, 6, 2, 5, 7, 2, 5, 0, 4, 5, 3, 1, 4, 0, 1, 7, 1, 6, 2, 0, 4, 0, 4, 7, 5, 1, 3, 1, 7, 3, 0, 5, 1, 5, 3, 4, 5, 6, 2, 6, 2, 3, 4, 6, 2, 0, 4, 0, 1, 5, 6, 2, 5, 2, 6, 2, 0, 2, 0, 3, 1, 2, 5, 7, 1, 7, 4, 5, 3, 4, 6, 2, 3, 4, 0, 5, 2, 7, 5, 7, 2, 0, 6, 2, 6, 2, 0, 3, 6, 2, 5, 7, 2, 5, 1, 7, 2, 7, 2, 7, 0, 6, 2, 5, 0, 5, 6, 2, 4, 0, 6, 2, 7, 3, 6, 2, 6, 2, 4, 5, 2, 0, 5, 7, 0, 3, 1, 7, 3, 4, 0, 5, 1, 5, 1, 6, 2, 5, 2, 6, 2, 5, 7, 5, 2, 5, 1, 6, 2, 3, 1, 6, 2, 4, 1, 2, 6, 2, 7, 4, 0, 4, 6, 2, 4, 0, 5, 7, 5, 1, 3, 0, 2, 7, 5, 1, 3, 5, 3, 7, 3, 4, 2, 0, 1, 5, 0, 1, 4, 0, 1, 5, 6, 2, 4, 1, 2, 5, 6, 2, 4, 7, 1, 6, 2, 0, 2, 6, 2, 5, 1, 6, 2, 7, 5, 7, 5, 2, 4, 5, 6, 2, 3, 7, 4, 0, 5, 1, 3, 7, 0, 2, 4, 7, 3, 4, 6, 2, 4, 5, 6, 2, 3, 1, 4, 0, 1, 6, 2, 6, 2, 6, 2, 7, 2, 3, 7, 0, 2, 4, 7, 5, 6, 2, 0, 1, 3, 5, 0, 5, 1, 7, 2, 3, 5, 6, 2, 5, 0, 6, 2, 6, 2, 6, 2, 7, 1, 4, 5, 1, 7, 2, 6, 2, 7, 4, 0, 2, 0, 1, 4, 5, 1, 7, 2, 3, 5, 0, 2, 4, 2, 4, 6, 2, 3, 1, 2, 5, 3, 4, 7, 2, 0, 5, 2, 6, 2, 7, 0, 2, 5, 2, 4, 7, 3, 5, 1, 3, 4, 2, 4, 7, 0, 6, 2, 7, 3, 4, 1, 2, 5, 6]\n"
     ]
    }
   ],
   "source": [
    "import numpy.random as rnd\n",
    "longTraject = [0]\n",
    "\n",
    "for i in range(10000):\n",
    "    x_new = rnd.choice(stateSpace, p=probsArray[longTraject[i], :])\n",
    "    longTraject += [x_new]\n",
    "\n",
    "print(longTraject)"
   ]
  },
  {
   "cell_type": "markdown",
   "metadata": {
    "deletable": true,
    "editable": true
   },
   "source": [
    "---\n",
    "\n",
    "#### Activity 6\n",
    "\n",
    "Draw a histogram of the trajectory generated in Activity #5. Make sure that the histogram has one bin for each state. Compare the relative frequencies with the result of Activity #4.\n",
    "\n",
    "**Note**: Don't forget to load `matplotlib`.\n",
    "\n",
    "---"
   ]
  },
  {
   "cell_type": "code",
   "execution_count": 21,
   "metadata": {
    "collapsed": false,
    "deletable": true,
    "editable": true
   },
   "outputs": [
    {
     "name": "stdout",
     "output_type": "stream",
     "text": [
      "Trajectory Distribution:  [ 0.11027779  0.0947581   0.21889562  0.10967781  0.10577788  0.12703746\n",
      "  0.12545749  0.10811784]\n"
     ]
    },
    {
     "data": {
      "image/png": "[encoded data removed]",
      "text/plain": [
       "<matplotlib.figure.Figure at 0x1344c6be2b0>"
      ]
     },
     "metadata": {},
     "output_type": "display_data"
    },
    {
     "name": "stdout",
     "output_type": "stream",
     "text": [
      "\n",
      "\n"
     ]
    },
    {
     "data": {
      "image/png": "[encoded data removed]",
      "text/plain": [
       "<matplotlib.figure.Figure at 0x1344c725710>"
      ]
     },
     "metadata": {},
     "output_type": "display_data"
    }
   ],
   "source": [
    "import matplotlib.mlab as mlab\n",
    "import matplotlib.pyplot as plt\n",
    "import sklearn.metrics as metrics\n",
    "\n",
    "histWidth = 0.8\n",
    "n, bins, patches = plt.hist(longTraject, bins=8, normed = True, width = histWidth, color = 'b')\n",
    "\n",
    "n = n/np.sum(n)\n",
    "print (\"Trajectory Distribution: \", n)\n",
    "\n",
    "#showing histogram\n",
    "plt.title(\"Trajectory Histogram\")\n",
    "plt.ylabel(\"Frequency\")\n",
    "plt.xlabel(\"State\")\n",
    "plt.xticks(bins + histWidth/2, stateLabels)\n",
    "\n",
    "plt.show()\n",
    "\n",
    "print(\"\\n\")\n",
    "\n",
    "#comparing both distributions\n",
    "fig, ax = plt.subplots()\n",
    "traj = ax.bar(np.arange(8), n, width = plotWidth, color = 'b')\n",
    "dist = ax.bar(np.arange(8) + plotWidth, statDist, width = plotWidth, color = 'r')\n",
    "\n",
    "plt.title(\"Static and Simulated Distributions\")\n",
    "plt.ylabel(\"Frequency\")\n",
    "plt.xlabel(\"State\")\n",
    "plt.xticks(np.arange(8) + plotWidth/2, stateLabels)\n",
    "\n",
    "plt.legend((traj[0], dist[0]), ('Trajectory', 'Stationary'))\n",
    "plt.show()\n",
    "\n"
   ]
  },
  {
   "cell_type": "code",
   "execution_count": null,
   "metadata": {
    "collapsed": true
   },
   "outputs": [],
   "source": []
  }
 ],
 "metadata": {
  "kernelspec": {
   "display_name": "Python 3",
   "language": "python",
   "name": "python3"
  },
  "language_info": {
   "codemirror_mode": {
    "name": "ipython",
    "version": 3
   },
   "file_extension": ".py",
   "mimetype": "text/x-python",
   "name": "python",
   "nbconvert_exporter": "python",
   "pygments_lexer": "ipython3",
   "version": "3.6.0"
  }
 },
 "nbformat": 4,
 "nbformat_minor": 0
}
