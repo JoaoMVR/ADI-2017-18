{
 "cells": [
  {
   "cell_type": "markdown",
   "metadata": {
    "deletable": true,
    "editable": true
   },
   "source": [
    "# Learning and Decision Making"
   ]
  },
  {
   "cell_type": "markdown",
   "metadata": {
    "deletable": true,
    "editable": true
   },
   "source": [
    "## Laboratory 2: Markov chains\n",
    "\n",
    "In the end of the lab, you should submit all code/answers written in the tasks marked as \"Activity n. XXX\", together with the corresponding outputs and any replies to specific questions posed to the e-mail <adi.tecnico@gmail.com>. Make sure that the subject is of the form [&lt;group n.&gt;] LAB &lt;lab n.&gt;.\n",
    "\n",
    "### 1. Modeling\n",
    "\n",
    "Consider once again the simplified Monopoly game described in the Homework and for which you wrote a Markov chain model:\n",
    "\n",
    "<img src=\"monopoly.png\" width=\"300px\">\n",
    "\n",
    "Recall that your chain should describe a single player, where: \n",
    "\n",
    "* The player rolls a single die in each play; \n",
    "* The jail does not prevent the player from continuing to play. In other words, when landing on the “GO TO JAIL” cell, the player jumps back to the “JAIL” cell, but resumes play immediately."
   ]
  },
  {
   "cell_type": "markdown",
   "metadata": {
    "deletable": true,
    "editable": true
   },
   "source": [
    "---\n",
    "\n",
    "#### Activity 1.        \n",
    "\n",
    "Implement your Markov chain model in Python. In particular,\n",
    "\n",
    "* Create a list with all the states;\n",
    "* Define a `numpy` array with the corresponding transition probabilities.\n",
    "\n",
    "The order for the states used in the transition probability matrix should match that in the list of states. \n",
    "\n",
    "**Note 1**: Don't forget to import `numpy`.\n",
    "\n",
    "**Note 2**: Make sure to print the result in the end.\n",
    "\n",
    "---"
   ]
  },
  {
   "cell_type": "code",
   "execution_count": 19,
   "metadata": {
    "collapsed": false,
    "deletable": true,
    "editable": true
   },
   "outputs": [
    {
     "name": "stdout",
     "output_type": "stream",
     "text": [
      "Legenda:\n",
      " 0 = Collect $200\n",
      " 1 = Vermont Avenue\n",
      " 2 = Jail\n",
      " 3 = Virginia Avenue\n",
      " 4 = Free Parking\n",
      " 5 = Marvin Gardens\n",
      " 6 = Go To Jail\n",
      " 7 = Pennsylvania Avenue\n",
      "\n",
      "[0, 1, 2, 3, 4, 5, 6, 7]\n",
      "\n",
      "\n",
      " Pobabilities Matrix:\n",
      "[[ 0.          0.16666667  0.16666667  0.16666667  0.16666667  0.16666667\n",
      "   0.16666667  0.        ]\n",
      " [ 0.          0.          0.16666667  0.16666667  0.16666667  0.16666667\n",
      "   0.16666667  0.16666667]\n",
      " [ 0.16666667  0.          0.          0.16666667  0.16666667  0.16666667\n",
      "   0.16666667  0.16666667]\n",
      " [ 0.16666667  0.16666667  0.          0.          0.16666667  0.16666667\n",
      "   0.16666667  0.16666667]\n",
      " [ 0.16666667  0.16666667  0.16666667  0.          0.          0.16666667\n",
      "   0.16666667  0.16666667]\n",
      " [ 0.16666667  0.16666667  0.16666667  0.16666667  0.          0.\n",
      "   0.16666667  0.16666667]\n",
      " [ 0.          0.          1.          0.          0.          0.          0.\n",
      "   0.        ]\n",
      " [ 0.16666667  0.16666667  0.16666667  0.16666667  0.16666667  0.16666667\n",
      "   0.          0.        ]]\n"
     ]
    }
   ],
   "source": [
    "import numpy as np\n",
    "\n",
    "# 0 = Collect $200\n",
    "# 1 = Vermont Avenue\n",
    "# 2 = Jail\n",
    "# 3 = Virginia Avenue\n",
    "# 4 = Free Parking\n",
    "# 5 = Marvin Gardens\n",
    "# 6 = Go To Jail\n",
    "# 7 = Pennsylvania Avenue\n",
    "stateSpace = [0, 1, 2, 3, 4, 5, 6, 7]\n",
    "\n",
    "x = 1/6\n",
    "\n",
    "probsArray = np.array([[0, x, x , x, x, x, x, 0],\n",
    "               [0, 0, x, x, x, x, x, x],\n",
    "               [x, 0, 0, x, x, x, x, x],\n",
    "               [x, x, 0, 0, x, x, x, x],\n",
    "               [x, x, x, 0, 0, x, x, x],\n",
    "               [x, x, x, x, 0, 0, x, x],\n",
    "               [0, 0, 1, 0, 0, 0, 0, 0],\n",
    "               [x, x, x, x, x, x, 0, 0]])\n",
    "\n",
    "\n",
    "print(\"Legenda:\\n\", \"0 = Collect $200\\n\", \"1 = Vermont Avenue\\n\", \"2 = Jail\\n\", \"3 = Virginia Avenue\\n\",\n",
    "     \"4 = Free Parking\\n\",\"5 = Marvin Gardens\\n\", \"6 = Go To Jail\\n\", \"7 = Pennsylvania Avenue\\n\")\n",
    "print(stateSpace)\n",
    "print(\"\\n\\n\", \"Pobabilities Matrix:\")\n",
    "print(probsArray)\n"
   ]
  },
  {
   "cell_type": "markdown",
   "metadata": {
    "deletable": true,
    "editable": true
   },
   "source": [
    "---\n",
    "\n",
    "#### Activity 2.\n",
    "\n",
    "Compute the probability of the following trajectories:\n",
    "\n",
    "* \"COLLECT \\$200\" - \"VERMONT AVENUE\" - \"GO TO JAIL\" - \"JAIL\"\n",
    "* \"COLLECT \\$200\" - \"GO TO JAIL\" - \"JAIL\" - \"COLLECT \\$200\"\n",
    "* \"COLLECT \\$200\" - \"PENNSYLVANIA AVENUE\" - \"COLLECT \\$200\"\n",
    "\n",
    "**Note:** Make sure to print the result in the end.\n",
    "\n",
    "---"
   ]
  },
  {
   "cell_type": "code",
   "execution_count": 20,
   "metadata": {
    "collapsed": false,
    "deletable": true,
    "editable": true
   },
   "outputs": [
    {
     "name": "stdout",
     "output_type": "stream",
     "text": [
      "Probability of the trajectory \"COLLECT $200\" - \"VERMONT AVENUE\" - \"GO TO JAIL\" - \"JAIL\" : \n",
      " 0.166666666667 * 0.166666666667 * * 1.0 = 0.0277777777778\n",
      "\n",
      "\n",
      "Probability of the trajectory \"COLLECT $200\" - \"GO TO JAIL\" - \"JAIL\" - \"COLLECT $200\": \n",
      " 0.166666666667 * 1.0 * 0.166666666667 = 0.0277777777778\n",
      "\n",
      "\n",
      "Probability of the trajectory \"COLLECT $200\" - \"PENNSYLVANIA AVENUE\" - \"COLLECT $200\": \n",
      " 0.0 * 0.166666666667 = 0.0\n"
     ]
    }
   ],
   "source": [
    "# \"COLLECT $200\" - \"VERMONT AVENUE\" - \"GO TO JAIL\" - \"JAIL\"\n",
    "# Probs = (0,1), (1,6), (6,2)\n",
    "\n",
    "trajectoryProb1 = probsArray[0, 1] * probsArray[1, 6] * probsArray[6, 2]\n",
    "\n",
    "print(\"Probability of the trajectory \\\"COLLECT $200\\\" - \\\"VERMONT AVENUE\\\" - \\\"GO TO JAIL\\\" - \\\"JAIL\\\" : \\n\", \n",
    "      probsArray[0, 1], \"*\", probsArray[1, 6], \"*\", \"*\", probsArray[6, 2], \"=\", trajectoryProb1)\n",
    "print(\"\\n\")\n",
    "\n",
    "\n",
    "# \"COLLECT $200\" - \"GO TO JAIL\" - \"JAIL\" - \"COLLECT $200\"\n",
    "# Probs = (0, 6), (6, 2), (2, 0)\n",
    "trajectoryProb2 = probsArray[0, 6] * probsArray[6, 2] * probsArray[2, 0]\n",
    "\n",
    "print(\"Probability of the trajectory \\\"COLLECT $200\\\" - \\\"GO TO JAIL\\\" - \\\"JAIL\\\" - \\\"COLLECT $200\\\": \\n\", \n",
    "      probsArray[0, 6], \"*\", probsArray[6, 2], \"*\", probsArray[2, 0], \"=\", trajectoryProb2)\n",
    "print(\"\\n\")\n",
    "\n",
    "\n",
    "# \"COLLECT $200\" - \"PENNSYLVANIA AVENUE\" - \"COLLECT $200\"\n",
    "# Probs = (0, 7), (7, 0)\n",
    "trajectoryProbability3 = probsArray[0, 7] * probsArray[7, 0]\n",
    "\n",
    "print(\"Probability of the trajectory \\\"COLLECT $200\\\" - \\\"PENNSYLVANIA AVENUE\\\" - \\\"COLLECT $200\\\": \\n\", \n",
    "      probsArray[0,7], \"*\", probsArray[7, 0], \"=\", trajectoryProbability3)"
   ]
  },
  {
   "cell_type": "markdown",
   "metadata": {
    "deletable": true,
    "editable": true
   },
   "source": [
    "### 2. Stability"
   ]
  },
  {
   "cell_type": "markdown",
   "metadata": {
    "deletable": true,
    "editable": true
   },
   "source": [
    "---\n",
    "\n",
    "#### Activity 3.\n",
    "\n",
    "Justify whether the chain implemented in Activity #1 is:\n",
    "\n",
    "* Irreducible\n",
    "* Aperiodic\n",
    "* Ergodic\n",
    "\n",
    "---"
   ]
  },
  {
   "cell_type": "code",
   "execution_count": null,
   "metadata": {
    "collapsed": true
   },
   "outputs": [],
   "source": []
  },
  {
   "cell_type": "code",
   "execution_count": null,
   "metadata": {
    "collapsed": true
   },
   "outputs": [],
   "source": []
  },
  {
   "cell_type": "markdown",
   "metadata": {
    "deletable": true,
    "editable": true
   },
   "source": [
    "\n"
   ]
  },
  {
   "cell_type": "markdown",
   "metadata": {
    "deletable": true,
    "editable": true
   },
   "source": [
    "---\n",
    "\n",
    "#### Activity 4\n",
    "\n",
    "Compute the stationary distribution for the chain.\n",
    "\n",
    "**Note:** The stationary distribution is a *left* eigenvector of the transition probability matrix associated to the eigenvalue 1. As such, you may find useful the numpy function `numpy.linalg.eig`. Also, recall that the stationary distribution is *a distribution*.\n",
    "\n",
    "---"
   ]
  },
  {
   "cell_type": "code",
   "execution_count": null,
   "metadata": {
    "collapsed": false,
    "deletable": true,
    "editable": true
   },
   "outputs": [],
   "source": []
  },
  {
   "cell_type": "markdown",
   "metadata": {
    "deletable": true,
    "editable": true
   },
   "source": [
    "### 3. Simulation\n",
    "\n",
    "You are now going to *simulate* the Markov chain that you defined in Question #1."
   ]
  },
  {
   "cell_type": "markdown",
   "metadata": {
    "deletable": true,
    "editable": true
   },
   "source": [
    "---\n",
    "\n",
    "#### Activity 5\n",
    "\n",
    "Generate a 10,000-step long trajectory of the chain defined in Activity #1. \n",
    "\n",
    "---"
   ]
  },
  {
   "cell_type": "code",
   "execution_count": 92,
   "metadata": {
    "collapsed": false,
    "deletable": true,
    "editable": true
   },
   "outputs": [
    {
     "name": "stdout",
     "output_type": "stream",
     "text": [
      "[]\n",
      "[ 4.  6.  2. ...,  4.  2.  4.]\n"
     ]
    }
   ],
   "source": [
    "longTraject = np.array([])\n",
    "\n",
    "print(longTraject)\n",
    "\n",
    "for i in range(10000):\n",
    "    if (i == 0):\n",
    "        longTraject = np.append(longTraject, np.random.choice(stateSpace, 1, p = probsArray[0]))\n",
    "    else:\n",
    "        probDis = probsArray[int(longTraject[i-1])]\n",
    "        longTraject = np.append(longTraject, int(np.random.choice(stateSpace, 1, p = probDis)))\n",
    "        \n",
    "print(longTraject)"
   ]
  },
  {
   "cell_type": "markdown",
   "metadata": {
    "deletable": true,
    "editable": true
   },
   "source": [
    "---\n",
    "\n",
    "#### Activity 6\n",
    "\n",
    "Draw a histogram of the trajectory generated in Activity #5. Make sure that the histogram has one bin for each state. Compare the relative frequencies with the result of Activity #4.\n",
    "\n",
    "**Note**: Don't forget to load `matplotlib`.\n",
    "\n",
    "---"
   ]
  },
  {
   "cell_type": "code",
   "execution_count": null,
   "metadata": {
    "collapsed": false,
    "deletable": true,
    "editable": true
   },
   "outputs": [],
   "source": []
  },
  {
   "cell_type": "markdown",
   "metadata": {
    "deletable": true,
    "editable": true
   },
   "source": [
    "The empirical distribution matches the theoretical distribution."
   ]
  }
 ],
 "metadata": {
  "kernelspec": {
   "display_name": "Python 3",
   "language": "python",
   "name": "python3"
  },
  "language_info": {
   "codemirror_mode": {
    "name": "ipython",
    "version": 3
   },
   "file_extension": ".py",
   "mimetype": "text/x-python",
   "name": "python",
   "nbconvert_exporter": "python",
   "pygments_lexer": "ipython3",
   "version": "3.6.0"
  }
 },
 "nbformat": 4,
 "nbformat_minor": 0
}
