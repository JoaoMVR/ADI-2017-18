{
 "cells": [
  {
   "cell_type": "code",
   "execution_count": 0,
   "metadata": {
    "collapsed": true
   },
   "outputs": [],
   "source": [
    "#Exercise 1\n",
    "stateSpace = [\"AC\", \"AD\"]\n",
    "\n",
    "actionSpace = [\"guessAC\", \"guessAD\", \"peek\"]\n",
    "\n",
    "observationSpace = [\"sawAC\", \"sawAD\"]\n"
   ]
  },
  {
   "cell_type": "code",
   "execution_count": 0,
   "metadata": {
    "collapsed": false
   },
   "outputs": [],
   "source": [
    "#Exercise 2\n",
    "import numpy as np\n",
    "\n",
    "pGuessAC = np.array([[0.5, 0.5], \n",
    "                     [0.5, 0.5]])\n",
    "\n",
    "pGuessAD = np.array([[0.5, 0.5], \n",
    "                     [0.5, 0.5]])\n",
    "\n",
    "pPeek = np.array([[1, 0], \n",
    "                  [0, 1]])\n",
    "\n",
    "pObsGuessAC = np.array([[0.5, 0.5], \n",
    "                        [0.5, 0.5]])\n",
    "\n",
    "pObsGuessAD = np.array([[0.5, 0.5], \n",
    "                        [0.5, 0.5]])\n",
    "\n",
    "pObsPeek = np.array([[0.9, 0.1], \n",
    "                     [0.1, 0.9]])\n",
    "\n",
    "costFunc = np.array([[0, 1, 0.1], \n",
    "                     [1, 0, 0.1]])"
   ]
  },
  {
   "cell_type": "code",
   "execution_count": 0,
   "metadata": {
    "collapsed": false
   },
   "outputs": [],
   "source": [
    "#Exercise 3\n",
    "alphaZero = np.array([0.7, 0.3])\n",
    "\n",
    "alphaOne = np.dot(alphaZero, np.diag(pObsPeek[:,1]) )\n",
    "\n",
    "print(alphaOne)"
   ]
  },
  {
   "cell_type": "code",
   "execution_count": 0,
   "metadata": {
    "collapsed": true
   },
   "outputs": [],
   "source": []
  }
 ],
 "metadata": {
  "kernelspec": {
   "display_name": "Python 3",
   "language": "python",
   "name": "python3"
  },
  "language_info": {
   "codemirror_mode": {
    "name": "ipython",
    "version": 3
   },
   "file_extension": ".py",
   "mimetype": "text/x-python",
   "name": "python",
   "nbconvert_exporter": "python",
   "pygments_lexer": "ipython3",
   "version": "3.6.0"
  }
 },
 "nbformat": 4,
 "nbformat_minor": 2
}
