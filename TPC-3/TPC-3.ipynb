{
 "cells": [
  {
   "cell_type": "code",
   "execution_count": 0,
   "metadata": {
    "collapsed": false
   },
   "outputs": [],
   "source": [
    "#Exercise 1\n",
    "stateSpace = [\"AC\", \"AD\"]\n",
    "print(stateSpace, \"\\n\\n\")\n",
    "\n",
    "actionSpace = [\"guessAC\", \"guessAD\", \"peek\"]\n",
    "print(actionSpace, \"\\n\\n\")\n",
    "\n",
    "observationSpace = [\"sawAC\", \"sawAD\"]\n",
    "print(observationSpace)"
   ]
  },
  {
   "cell_type": "code",
   "execution_count": 0,
   "metadata": {
    "collapsed": false
   },
   "outputs": [],
   "source": [
    "#Exercise 2\n",
    "import numpy as np\n",
    "\n",
    "pGuessAC = np.array([[0.5, 0.5], \n",
    "                     [0.5, 0.5]])\n",
    "print(pGuessAC, \"\\n\\n\")\n",
    "\n",
    "pGuessAD = np.array([[0.5, 0.5], \n",
    "                     [0.5, 0.5]])\n",
    "print(pGuessAD, \"\\n\\n\")\n",
    "\n",
    "\n",
    "pPeek = np.array([[1, 0], \n",
    "                  [0, 1]])\n",
    "print(pPeek, \"\\n\\n\")\n",
    "\n",
    "pObsGuessAC = np.array([[0.5, 0.5], \n",
    "                        [0.5, 0.5]])\n",
    "print(pObsGuessAC, \"\\n\\n\")\n",
    "\n",
    "pObsGuessAD = np.array([[0.5, 0.5], \n",
    "                        [0.5, 0.5]])\n",
    "print(pObsGuessAD, \"\\n\\n\")\n",
    "\n",
    "pObsPeek = np.array([[0.9, 0.1], \n",
    "                     [0.1, 0.9]])\n",
    "print(pObsPeek, \"\\n\\n\")\n",
    "\n",
    "costFunc = np.array([[0, 1, 0.1], \n",
    "                     [1, 0, 0.1]])\n",
    "print(costFunc)"
   ]
  },
  {
   "cell_type": "code",
   "execution_count": 0,
   "metadata": {
    "collapsed": false
   },
   "outputs": [],
   "source": [
    "#Exercise 3\n",
    "alphaZero = np.array([0.7, 0.3])\n",
    "\n",
    "alphaOne = np.dot(alphaZero, np.diag(pObsPeek[:,1]) )\n",
    "\n",
    "print(alphaOne)"
   ]
  },
  {
   "cell_type": "code",
   "execution_count": 0,
   "metadata": {
    "collapsed": true
   },
   "outputs": [],
   "source": []
  }
 ],
 "metadata": {
  "kernelspec": {
   "display_name": "Python 3",
   "language": "python",
   "name": "python3"
  },
  "language_info": {
   "codemirror_mode": {
    "name": "ipython",
    "version": 3
   },
   "file_extension": ".py",
   "mimetype": "text/x-python",
   "name": "python",
   "nbconvert_exporter": "python",
   "pygments_lexer": "ipython3",
   "version": "3.6.0"
  }
 },
 "nbformat": 4,
 "nbformat_minor": 2
}
