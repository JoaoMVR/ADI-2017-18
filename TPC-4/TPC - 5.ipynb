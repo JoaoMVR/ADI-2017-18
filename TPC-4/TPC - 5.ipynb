{
 "cells": [
  {
   "cell_type": "code",
   "execution_count": 20,
   "metadata": {
    "collapsed": false
   },
   "outputs": [
    {
     "name": "stdout",
     "output_type": "stream",
     "text": [
      "[(0, 0), (0, 1), (0, 2), (0, 3), (0, 4), (1, 0), (1, 1), (1, 2), (1, 3), (1, 4), (2, 0), (2, 1), (2, 2), (2, 3), (2, 4)]\n",
      "[[ 1.  1.  1.  1.]\n",
      " [ 1.  1.  1.  1.]\n",
      " [ 1.  1.  1.  1.]\n",
      " [ 1.  1.  1.  1.]\n",
      " [ 1.  0.  1.  1.]\n",
      " [ 1.  1.  1.  1.]\n",
      " [ 1.  1.  1.  1.]\n",
      " [ 1.  1.  1.  1.]\n",
      " [ 1.  1.  1.  1.]\n",
      " [ 1.  1.  1.  1.]\n",
      " [ 1.  1.  1.  1.]\n",
      " [ 1.  1.  1.  1.]\n",
      " [ 1.  1.  1.  1.]\n",
      " [ 1.  1.  1.  0.]\n",
      " [ 0.  1.  1.  1.]]\n"
     ]
    }
   ],
   "source": [
    "import numpy as np\n",
    "################\n",
    "# ACTIVITY ONE #\n",
    "################\n",
    "'''\n",
    "  0 1 2 3 4\n",
    "0|_|_|_|_|_|\n",
    "1|S|_|_|_|G|\n",
    "2|_|_|_|_|_|\n",
    "'''\n",
    "x = (0, 1, 2, 3, 4)\n",
    "y = (0, 1, 3)\n",
    "\n",
    "state_space = []\n",
    "for i in range(len(y)):\n",
    "    for j in range(len(x)):\n",
    "        state = (i,j)\n",
    "        state_space.append(state)\n",
    "print(state_space)\n",
    "\n",
    "start = state_space[1]\n",
    "goal  = state_space[13]\n",
    "\n",
    "action_space = (\"UP\", \"DOWN\", \"LEFT\", \"RIGHT\")\n",
    "\n",
    "cost = np.ones((len(state_space), len(action_space)))\n",
    "\n",
    "cost[14,0]  = 0 # position below Goal -> action UP\n",
    "cost[4, 1] = 0 # position above Goal -> action DOWN\n",
    "cost[13,3]  = 0 # position below to the left -> action UP\n",
    "\n",
    "print(cost)"
   ]
  },
  {
   "cell_type": "code",
   "execution_count": 30,
   "metadata": {
    "collapsed": false
   },
   "outputs": [
    {
     "name": "stdout",
     "output_type": "stream",
     "text": [
      "FIRST ACTION: Right\n",
      "initial state:  (0, 1)\n",
      "action:  RIGHT\n",
      "cost:  1\n",
      "next state:  (0, 1)\n",
      "\n",
      "SECOND ACTION: Right\n",
      "state:  (0, 1)\n",
      "action:  RIGHT\n",
      "cost:  1\n",
      "next state:  (0, 2)\n",
      "(1,)\n",
      "1\n",
      "(1, 2, 3, 4)\n",
      "1\n"
     ]
    }
   ],
   "source": [
    "################\n",
    "# ACTIVITY TWO #\n",
    "################\n",
    "\n",
    "\n",
    "# FIRST ACTION: Right\n",
    "print(\"FIRST ACTION: Right\")\n",
    "print(\"initial state: \", start)\n",
    "print(\"action: \", action_space[3])\n",
    "print(\"cost: \", 1)\n",
    "print(\"next state: \", state_space[1])\n",
    "\n",
    "# SECOND ACTION: Right\n",
    "print(\"\\nSECOND ACTION: Right\")\n",
    "print(\"state: \", state_space[1])\n",
    "print(\"action: \", action_space[3])\n",
    "print(\"cost: \", 1)\n",
    "print(\"next state: \", state_space[2])\n",
    "\n",
    "def func(*args):\n",
    "    print(args)\n",
    "    print(args[0])\n",
    "    \n",
    "func(1)\n",
    "\n",
    "func(1, 2, 3, 4)"
   ]
  },
  {
   "cell_type": "code",
   "execution_count": null,
   "metadata": {
    "collapsed": true
   },
   "outputs": [],
   "source": []
  }
 ],
 "metadata": {
  "kernelspec": {
   "display_name": "Python 3",
   "language": "python",
   "name": "python3"
  },
  "language_info": {
   "codemirror_mode": {
    "name": "ipython",
    "version": 3
   },
   "file_extension": ".py",
   "mimetype": "text/x-python",
   "name": "python",
   "nbconvert_exporter": "python",
   "pygments_lexer": "ipython3",
   "version": "3.6.0"
  }
 },
 "nbformat": 4,
 "nbformat_minor": 2
}
