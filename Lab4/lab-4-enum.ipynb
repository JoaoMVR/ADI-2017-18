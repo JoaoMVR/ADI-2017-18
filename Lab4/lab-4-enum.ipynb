{
 "cells": [
  {
   "cell_type": "markdown",
   "metadata": {
    "deletable": true,
    "editable": true
   },
   "source": [
    "# Learning and Decision Making"
   ]
  },
  {
   "cell_type": "markdown",
   "metadata": {
    "deletable": true,
    "editable": true
   },
   "source": [
    "## Laboratory 4: Partially observable Markov decision problems\n",
    "\n",
    "In the end of the lab, you should submit all code/answers written in the tasks marked as \"Activity n. XXX\", together with the corresponding outputs and any replies to specific questions posed to the e-mail <adi.tecnico@gmail.com>. Make sure that the subject is of the form [&lt;group n.&gt;] LAB &lt;lab n.&gt;."
   ]
  },
  {
   "cell_type": "markdown",
   "metadata": {
    "deletable": true,
    "editable": true
   },
   "source": [
    "### 1. Modeling\n",
    "\n",
    "Consider once again the guessing game domain described in the Homework and which you described as a POMDP.\n",
    "\n",
    "Recall that:\n",
    "\n",
    "* The opponent can hold one of two cards in hand: an Ace of Clubs (A&clubs;) and an Ace of Diamonds (A&diams;). The agent must guess which card the opponent is holding. \n",
    "\n",
    "* For every right answer, the agent wins 1EUR, and every wrong answer costs the agent 1EUR. \n",
    "\n",
    "* The agent can also try to _peek_. \n",
    "\n",
    "* When the agent peeks, it sees the right card with a probability of 0.9 and the wrong card with probability 0.1.\n",
    "\n",
    "* The game restarts whenever the agent makes a guess.\n",
    "\n",
    "Consider throughout that $\\gamma=0.9$."
   ]
  },
  {
   "cell_type": "markdown",
   "metadata": {
    "deletable": true,
    "editable": true
   },
   "source": [
    "---\n",
    "\n",
    "#### Activity 1.        \n",
    "\n",
    "Implement your POMDP in Python. In particular,\n",
    "\n",
    "* Create a list with all the states;\n",
    "* Create a list with all the actions;\n",
    "* Create a list with all the observations\n",
    "* For each action, define a `numpy` array with the corresponding transition probabilities;\n",
    "* For each action, define a `numpy` array with the corresponding observation probabilities;\n",
    "* Define a `numpy`array with the cost that you defined in your homework.\n",
    "\n",
    "The order for the states and actions used in the transition probability and cost matrices should match that in the lists of states and actions. \n",
    "\n",
    "**Note**: Don't forget to import `numpy`.\n",
    "\n",
    "---"
   ]
  },
  {
   "cell_type": "code",
   "execution_count": 0,
   "metadata": {
    "collapsed": false,
    "deletable": true,
    "editable": true,
    "scrolled": false
   },
   "outputs": [],
   "source": [
    "import numpy as np\n",
    "\n",
    "stateSpace = [\"AC\", \"AD\"]\n",
    "print(stateSpace, \"\\n\\n\")\n",
    "\n",
    "actionSpace = [\"guessAC\", \"guessAD\", \"peek\"]\n",
    "print(actionSpace, \"\\n\\n\")\n",
    "\n",
    "observationSpace = [\"sawAC\", \"sawAD\"]\n",
    "print(observationSpace, \"\\n\\n\")\n",
    "\n",
    "pGuessAC = np.array([[0.5, 0.5], \n",
    "                     [0.5, 0.5]])\n",
    "print(pGuessAC, \"\\n\\n\")\n",
    "\n",
    "pGuessAD = np.array([[0.5, 0.5], \n",
    "                     [0.5, 0.5]])\n",
    "print(pGuessAD, \"\\n\\n\")\n",
    "\n",
    "pPeek = np.array([[1, 0], \n",
    "                  [0, 1]])\n",
    "print(pPeek, \"\\n\\n\")\n",
    "\n",
    "pObsGuessAC = np.array([[0.5, 0.5], \n",
    "                        [0.5, 0.5]])\n",
    "print(pObsGuessAC, \"\\n\\n\")\n",
    "\n",
    "pObsGuessAD = np.array([[0.5, 0.5], \n",
    "                        [0.5, 0.5]])\n",
    "print(pObsGuessAD, \"\\n\\n\")\n",
    "\n",
    "pObsPeek = np.array([[0.9, 0.1], \n",
    "                     [0.1, 0.9]])\n",
    "print(pObsPeek, \"\\n\\n\")\n",
    "\n",
    "costFunc = np.array([[0, 1, 0.1], \n",
    "                     [1, 0, 0.1]])\n",
    "print(costFunc)"
   ]
  },
  {
   "cell_type": "markdown",
   "metadata": {
    "deletable": true,
    "editable": true
   },
   "source": [
    "### 2. Sampling\n",
    "\n",
    "You are now going to sample random trajectories of your POMDP and observe the impact it has on the corresponding belief."
   ]
  },
  {
   "cell_type": "markdown",
   "metadata": {
    "deletable": true,
    "editable": true,
    "raw_mimetype": "text/latex"
   },
   "source": [
    "---\n",
    "\n",
    "#### Activity 2.\n",
    "\n",
    "Generate a random POMDP trajectory using a uniformly random policy. In particular, from a random initial state $x_0$ generate:\n",
    "\n",
    "1. A sequence of 10,000 states by selecting the actions uniformly at random;\n",
    "2. The corresponding sequence of 10,000 actions;\n",
    "3. The corresponding sequence of 10,000 observations.\n",
    "\n",
    "---"
   ]
  },
  {
   "cell_type": "code",
   "execution_count": 0,
   "metadata": {
    "collapsed": false,
    "deletable": true,
    "editable": true
   },
   "outputs": [],
   "source": [
    "import numpy.random as rnd\n",
    "\n",
    "uniformPolicy = np.array([[1/3, 1/3, 1/3],\n",
    "                          [1/3, 1/3, 1/3]])\n",
    "\n",
    "uniformDistribution = np.array([1/3, 1/3, 1/3])\n",
    "\n",
    "allMatrixes = [pGuessAC, pGuessAD, pPeek]\n",
    "\n",
    "'''\n",
    "pPi = np.zeros((np.size(stateSpace), np.size(stateSpace)))\n",
    "\n",
    "for i in range(np.size(stateSpace)):  \n",
    "    for j in range(np.size(actionSpace)):\n",
    "        prob = uniformPolicy[i,j]\n",
    "        probMatrixJ = allMatrixes[j]\n",
    "        probLineI = probMatrixJ[i,:]        \n",
    "        probLineI = np.multiply(prob, probLineI)\n",
    "        pPi[i,:] += probLineI\n",
    "\n",
    "print(pPi)        \n",
    "'''\n",
    "\n",
    "actionTrajectory = np.array([])\n",
    "stateTrajectory = np.array([rnd.choice(stateSpace)])\n",
    "observationTrajectory = np.array([])\n",
    "\n",
    "def applyAction(state, action):\n",
    "    next_state = \"\"\n",
    "    \n",
    "    if (action == \"peek\"):\n",
    "        next_state = state\n",
    "    elif (action == \"guessAC\"):\n",
    "        next_state = rnd.choice(stateSpace, p=pGuessAC[stateSpace.index(state)])\n",
    "    else:\n",
    "        next_state = rnd.choice(stateSpace, p=pGuessAD[stateSpace.index(state)])\n",
    "        \n",
    "    return next_state, \"obs\"\n",
    "\n",
    "for j in range(10000):\n",
    "        new_a = rnd.choice(actionSpace, p=uniformDistribution)\n",
    "        actionTrajectory = np.append(actionTrajectory, new_a)\n",
    "        new_state, new_observation = applyAction(stateTrajectory[j], new_a)\n",
    "        stateTrajectory = np.append(stateTrajectory, new_state)\n",
    "        observationTrajectory = np.append(observationTrajectory, new_observation)\n"
   ]
  },
  {
   "cell_type": "markdown",
   "metadata": {
    "deletable": true,
    "editable": true
   },
   "source": [
    "---\n",
    "\n",
    "#### Activity 3.\n",
    "\n",
    "For the POMDP trajectory generated in Activity 2, compute the corresponding sequence of beliefs, assuming that the initial belief is $\\mathbf{b}_0=[0.5, 0.5]$. Report the resulting beliefs, ignoring duplicate beliefs or beliefs whose distance is smaller than $10^{-4}$.\n",
    "\n",
    "**Note 1:** You may want to define a function `belief_update` that receives a belief, an action and an observation and returns the updated belief.\n",
    "\n",
    "**Note 2:** To compute the distance between vectors, you may find useful `numpy`'s function `linalg.norm`.\n",
    "\n",
    "\n",
    "---"
   ]
  },
  {
   "cell_type": "code",
   "execution_count": 0,
   "metadata": {
    "collapsed": false,
    "deletable": true,
    "editable": true,
    "scrolled": false
   },
   "outputs": [],
   "source": [
    "# Insert your code here"
   ]
  },
  {
   "cell_type": "markdown",
   "metadata": {
    "deletable": true,
    "editable": true
   },
   "source": [
    "### 3. Solution methods\n",
    "\n",
    "In this section you are going to compare different non-exact solution methods."
   ]
  },
  {
   "cell_type": "markdown",
   "metadata": {
    "deletable": true,
    "editable": true
   },
   "source": [
    "---\n",
    "\n",
    "#### Activity 4\n",
    "\n",
    "Compute the solution for the underlying MDP and report the corresponding optimal policy and optimal cost-to-go. \n",
    "\n",
    "** Note:** You may reuse code from previous labs.\n",
    "\n",
    "---"
   ]
  },
  {
   "cell_type": "code",
   "execution_count": 0,
   "metadata": {
    "collapsed": false,
    "deletable": true,
    "editable": true,
    "scrolled": false
   },
   "outputs": [],
   "source": [
    "# Insert your code here"
   ]
  },
  {
   "cell_type": "markdown",
   "metadata": {
    "deletable": true,
    "editable": true
   },
   "source": [
    "---\n",
    "\n",
    "#### Activity 5\n",
    "\n",
    "For each of the beliefs computed in Activity 3, compute the action prescribed by:\n",
    "\n",
    "* The MLS heuristic;\n",
    "* The AV heuristic;\n",
    "* The Q-MDP heuristic.\n",
    "\n",
    "---"
   ]
  },
  {
   "cell_type": "code",
   "execution_count": 0,
   "metadata": {
    "collapsed": false,
    "deletable": true,
    "editable": true,
    "scrolled": false
   },
   "outputs": [],
   "source": [
    "# Insert your code here"
   ]
  },
  {
   "cell_type": "markdown",
   "metadata": {
    "deletable": true,
    "editable": true
   },
   "source": [
    "---\n",
    "\n",
    "#### Activity 6\n",
    "\n",
    "Suppose that the optimal cost-to-go function for the POMDP can be represented using the $\\alpha$-vectors\n",
    "\n",
    "$$\n",
    "\\left\\{\n",
    "\\begin{bmatrix}\n",
    "2.795\\\\\n",
    "3.795\n",
    "\\end{bmatrix},\n",
    "\\begin{bmatrix}\n",
    "3.795\\\\\n",
    "2.795\n",
    "\\end{bmatrix},\n",
    "\\begin{bmatrix}\n",
    "3.105\\\\\n",
    "3.105\n",
    "\\end{bmatrix}\\right\\}$$\n",
    "\n",
    "corresponding to the actions 'Guess clubs', 'Guess diamonds' and 'Peek', respectively. Represent the optimal cost-to-go function and compare the optimal policy with the MDP heuristics from Activity 5 in the beliefs computed in Activity 3.\n",
    "\n",
    "** Note: ** Don't forget to import `matplotlib`, and use the magic `%matplotlib notebook`.\n",
    "\n",
    "---"
   ]
  },
  {
   "cell_type": "code",
   "execution_count": 0,
   "metadata": {
    "collapsed": false,
    "deletable": true,
    "editable": true,
    "scrolled": false
   },
   "outputs": [],
   "source": [
    "# Insert your code here"
   ]
  }
 ],
 "metadata": {
  "celltoolbar": "Raw Cell Format",
  "kernelspec": {
   "display_name": "Python 3",
   "language": "python",
   "name": "python3"
  },
  "language_info": {
   "codemirror_mode": {
    "name": "ipython",
    "version": 3
   },
   "file_extension": ".py",
   "mimetype": "text/x-python",
   "name": "python",
   "nbconvert_exporter": "python",
   "pygments_lexer": "ipython3",
   "version": "3.6.0"
  }
 },
 "nbformat": 4,
 "nbformat_minor": 0
}
